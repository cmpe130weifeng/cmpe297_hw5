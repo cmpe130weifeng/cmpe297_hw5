{
  "nbformat": 4,
  "nbformat_minor": 0,
  "metadata": {
    "colab": {
      "provenance": []
    },
    "kernelspec": {
      "name": "python3",
      "display_name": "Python 3"
    },
    "language_info": {
      "name": "python"
    },
    "widgets": {
      "application/vnd.jupyter.widget-state+json": {
        "40294d9c2f214499947f31c4c3ee9232": {
          "model_module": "@jupyter-widgets/controls",
          "model_name": "HBoxModel",
          "model_module_version": "1.5.0",
          "state": {
            "_dom_classes": [],
            "_model_module": "@jupyter-widgets/controls",
            "_model_module_version": "1.5.0",
            "_model_name": "HBoxModel",
            "_view_count": null,
            "_view_module": "@jupyter-widgets/controls",
            "_view_module_version": "1.5.0",
            "_view_name": "HBoxView",
            "box_style": "",
            "children": [
              "IPY_MODEL_bca41899fff0415886de1aaba648e791",
              "IPY_MODEL_1ff1626f357440398f6f3612319bd017",
              "IPY_MODEL_8203701505374542a01d0e73ac2ea594"
            ],
            "layout": "IPY_MODEL_9966a27d33cc453799d36435b4e1c8cb"
          }
        },
        "bca41899fff0415886de1aaba648e791": {
          "model_module": "@jupyter-widgets/controls",
          "model_name": "HTMLModel",
          "model_module_version": "1.5.0",
          "state": {
            "_dom_classes": [],
            "_model_module": "@jupyter-widgets/controls",
            "_model_module_version": "1.5.0",
            "_model_name": "HTMLModel",
            "_view_count": null,
            "_view_module": "@jupyter-widgets/controls",
            "_view_module_version": "1.5.0",
            "_view_name": "HTMLView",
            "description": "",
            "description_tooltip": null,
            "layout": "IPY_MODEL_da10f351905f406f8c5137c86d257eea",
            "placeholder": "​",
            "style": "IPY_MODEL_bf0b50853e624a49b09e7c91997845df",
            "value": "100%"
          }
        },
        "1ff1626f357440398f6f3612319bd017": {
          "model_module": "@jupyter-widgets/controls",
          "model_name": "FloatProgressModel",
          "model_module_version": "1.5.0",
          "state": {
            "_dom_classes": [],
            "_model_module": "@jupyter-widgets/controls",
            "_model_module_version": "1.5.0",
            "_model_name": "FloatProgressModel",
            "_view_count": null,
            "_view_module": "@jupyter-widgets/controls",
            "_view_module_version": "1.5.0",
            "_view_name": "ProgressView",
            "bar_style": "success",
            "description": "",
            "description_tooltip": null,
            "layout": "IPY_MODEL_e6034c44210549f1b4fa4adc1a0083d8",
            "max": 9912422,
            "min": 0,
            "orientation": "horizontal",
            "style": "IPY_MODEL_e4648be3bacc4d31aa8e64580623e7f4",
            "value": 9912422
          }
        },
        "8203701505374542a01d0e73ac2ea594": {
          "model_module": "@jupyter-widgets/controls",
          "model_name": "HTMLModel",
          "model_module_version": "1.5.0",
          "state": {
            "_dom_classes": [],
            "_model_module": "@jupyter-widgets/controls",
            "_model_module_version": "1.5.0",
            "_model_name": "HTMLModel",
            "_view_count": null,
            "_view_module": "@jupyter-widgets/controls",
            "_view_module_version": "1.5.0",
            "_view_name": "HTMLView",
            "description": "",
            "description_tooltip": null,
            "layout": "IPY_MODEL_19a3d17e28e44c6981846cbb5db8a259",
            "placeholder": "​",
            "style": "IPY_MODEL_f8949145e071488aadc550cc272cb506",
            "value": " 9912422/9912422 [00:00&lt;00:00, 17263683.48it/s]"
          }
        },
        "9966a27d33cc453799d36435b4e1c8cb": {
          "model_module": "@jupyter-widgets/base",
          "model_name": "LayoutModel",
          "model_module_version": "1.2.0",
          "state": {
            "_model_module": "@jupyter-widgets/base",
            "_model_module_version": "1.2.0",
            "_model_name": "LayoutModel",
            "_view_count": null,
            "_view_module": "@jupyter-widgets/base",
            "_view_module_version": "1.2.0",
            "_view_name": "LayoutView",
            "align_content": null,
            "align_items": null,
            "align_self": null,
            "border": null,
            "bottom": null,
            "display": null,
            "flex": null,
            "flex_flow": null,
            "grid_area": null,
            "grid_auto_columns": null,
            "grid_auto_flow": null,
            "grid_auto_rows": null,
            "grid_column": null,
            "grid_gap": null,
            "grid_row": null,
            "grid_template_areas": null,
            "grid_template_columns": null,
            "grid_template_rows": null,
            "height": null,
            "justify_content": null,
            "justify_items": null,
            "left": null,
            "margin": null,
            "max_height": null,
            "max_width": null,
            "min_height": null,
            "min_width": null,
            "object_fit": null,
            "object_position": null,
            "order": null,
            "overflow": null,
            "overflow_x": null,
            "overflow_y": null,
            "padding": null,
            "right": null,
            "top": null,
            "visibility": null,
            "width": null
          }
        },
        "da10f351905f406f8c5137c86d257eea": {
          "model_module": "@jupyter-widgets/base",
          "model_name": "LayoutModel",
          "model_module_version": "1.2.0",
          "state": {
            "_model_module": "@jupyter-widgets/base",
            "_model_module_version": "1.2.0",
            "_model_name": "LayoutModel",
            "_view_count": null,
            "_view_module": "@jupyter-widgets/base",
            "_view_module_version": "1.2.0",
            "_view_name": "LayoutView",
            "align_content": null,
            "align_items": null,
            "align_self": null,
            "border": null,
            "bottom": null,
            "display": null,
            "flex": null,
            "flex_flow": null,
            "grid_area": null,
            "grid_auto_columns": null,
            "grid_auto_flow": null,
            "grid_auto_rows": null,
            "grid_column": null,
            "grid_gap": null,
            "grid_row": null,
            "grid_template_areas": null,
            "grid_template_columns": null,
            "grid_template_rows": null,
            "height": null,
            "justify_content": null,
            "justify_items": null,
            "left": null,
            "margin": null,
            "max_height": null,
            "max_width": null,
            "min_height": null,
            "min_width": null,
            "object_fit": null,
            "object_position": null,
            "order": null,
            "overflow": null,
            "overflow_x": null,
            "overflow_y": null,
            "padding": null,
            "right": null,
            "top": null,
            "visibility": null,
            "width": null
          }
        },
        "bf0b50853e624a49b09e7c91997845df": {
          "model_module": "@jupyter-widgets/controls",
          "model_name": "DescriptionStyleModel",
          "model_module_version": "1.5.0",
          "state": {
            "_model_module": "@jupyter-widgets/controls",
            "_model_module_version": "1.5.0",
            "_model_name": "DescriptionStyleModel",
            "_view_count": null,
            "_view_module": "@jupyter-widgets/base",
            "_view_module_version": "1.2.0",
            "_view_name": "StyleView",
            "description_width": ""
          }
        },
        "e6034c44210549f1b4fa4adc1a0083d8": {
          "model_module": "@jupyter-widgets/base",
          "model_name": "LayoutModel",
          "model_module_version": "1.2.0",
          "state": {
            "_model_module": "@jupyter-widgets/base",
            "_model_module_version": "1.2.0",
            "_model_name": "LayoutModel",
            "_view_count": null,
            "_view_module": "@jupyter-widgets/base",
            "_view_module_version": "1.2.0",
            "_view_name": "LayoutView",
            "align_content": null,
            "align_items": null,
            "align_self": null,
            "border": null,
            "bottom": null,
            "display": null,
            "flex": null,
            "flex_flow": null,
            "grid_area": null,
            "grid_auto_columns": null,
            "grid_auto_flow": null,
            "grid_auto_rows": null,
            "grid_column": null,
            "grid_gap": null,
            "grid_row": null,
            "grid_template_areas": null,
            "grid_template_columns": null,
            "grid_template_rows": null,
            "height": null,
            "justify_content": null,
            "justify_items": null,
            "left": null,
            "margin": null,
            "max_height": null,
            "max_width": null,
            "min_height": null,
            "min_width": null,
            "object_fit": null,
            "object_position": null,
            "order": null,
            "overflow": null,
            "overflow_x": null,
            "overflow_y": null,
            "padding": null,
            "right": null,
            "top": null,
            "visibility": null,
            "width": null
          }
        },
        "e4648be3bacc4d31aa8e64580623e7f4": {
          "model_module": "@jupyter-widgets/controls",
          "model_name": "ProgressStyleModel",
          "model_module_version": "1.5.0",
          "state": {
            "_model_module": "@jupyter-widgets/controls",
            "_model_module_version": "1.5.0",
            "_model_name": "ProgressStyleModel",
            "_view_count": null,
            "_view_module": "@jupyter-widgets/base",
            "_view_module_version": "1.2.0",
            "_view_name": "StyleView",
            "bar_color": null,
            "description_width": ""
          }
        },
        "19a3d17e28e44c6981846cbb5db8a259": {
          "model_module": "@jupyter-widgets/base",
          "model_name": "LayoutModel",
          "model_module_version": "1.2.0",
          "state": {
            "_model_module": "@jupyter-widgets/base",
            "_model_module_version": "1.2.0",
            "_model_name": "LayoutModel",
            "_view_count": null,
            "_view_module": "@jupyter-widgets/base",
            "_view_module_version": "1.2.0",
            "_view_name": "LayoutView",
            "align_content": null,
            "align_items": null,
            "align_self": null,
            "border": null,
            "bottom": null,
            "display": null,
            "flex": null,
            "flex_flow": null,
            "grid_area": null,
            "grid_auto_columns": null,
            "grid_auto_flow": null,
            "grid_auto_rows": null,
            "grid_column": null,
            "grid_gap": null,
            "grid_row": null,
            "grid_template_areas": null,
            "grid_template_columns": null,
            "grid_template_rows": null,
            "height": null,
            "justify_content": null,
            "justify_items": null,
            "left": null,
            "margin": null,
            "max_height": null,
            "max_width": null,
            "min_height": null,
            "min_width": null,
            "object_fit": null,
            "object_position": null,
            "order": null,
            "overflow": null,
            "overflow_x": null,
            "overflow_y": null,
            "padding": null,
            "right": null,
            "top": null,
            "visibility": null,
            "width": null
          }
        },
        "f8949145e071488aadc550cc272cb506": {
          "model_module": "@jupyter-widgets/controls",
          "model_name": "DescriptionStyleModel",
          "model_module_version": "1.5.0",
          "state": {
            "_model_module": "@jupyter-widgets/controls",
            "_model_module_version": "1.5.0",
            "_model_name": "DescriptionStyleModel",
            "_view_count": null,
            "_view_module": "@jupyter-widgets/base",
            "_view_module_version": "1.2.0",
            "_view_name": "StyleView",
            "description_width": ""
          }
        },
        "2ae3fa32b3f94900ae4d62216548157b": {
          "model_module": "@jupyter-widgets/controls",
          "model_name": "HBoxModel",
          "model_module_version": "1.5.0",
          "state": {
            "_dom_classes": [],
            "_model_module": "@jupyter-widgets/controls",
            "_model_module_version": "1.5.0",
            "_model_name": "HBoxModel",
            "_view_count": null,
            "_view_module": "@jupyter-widgets/controls",
            "_view_module_version": "1.5.0",
            "_view_name": "HBoxView",
            "box_style": "",
            "children": [
              "IPY_MODEL_3966c0d33ffa4252887ceb5bec493549",
              "IPY_MODEL_7c4173ec5601425d836ea05ace0cbc66",
              "IPY_MODEL_7f9740ffff6b4dc79e7c0921f839f7d1"
            ],
            "layout": "IPY_MODEL_c340efc0b0104b509cade8559c40c9a3"
          }
        },
        "3966c0d33ffa4252887ceb5bec493549": {
          "model_module": "@jupyter-widgets/controls",
          "model_name": "HTMLModel",
          "model_module_version": "1.5.0",
          "state": {
            "_dom_classes": [],
            "_model_module": "@jupyter-widgets/controls",
            "_model_module_version": "1.5.0",
            "_model_name": "HTMLModel",
            "_view_count": null,
            "_view_module": "@jupyter-widgets/controls",
            "_view_module_version": "1.5.0",
            "_view_name": "HTMLView",
            "description": "",
            "description_tooltip": null,
            "layout": "IPY_MODEL_1a5f2e3f3d004b349de5358c054c97cc",
            "placeholder": "​",
            "style": "IPY_MODEL_314751186b6741f398a4d7ba805dfbeb",
            "value": "100%"
          }
        },
        "7c4173ec5601425d836ea05ace0cbc66": {
          "model_module": "@jupyter-widgets/controls",
          "model_name": "FloatProgressModel",
          "model_module_version": "1.5.0",
          "state": {
            "_dom_classes": [],
            "_model_module": "@jupyter-widgets/controls",
            "_model_module_version": "1.5.0",
            "_model_name": "FloatProgressModel",
            "_view_count": null,
            "_view_module": "@jupyter-widgets/controls",
            "_view_module_version": "1.5.0",
            "_view_name": "ProgressView",
            "bar_style": "success",
            "description": "",
            "description_tooltip": null,
            "layout": "IPY_MODEL_aa00efc9a907470cae979e152d9c5716",
            "max": 28881,
            "min": 0,
            "orientation": "horizontal",
            "style": "IPY_MODEL_6447a0a26e5545fabbf12e3a823448bd",
            "value": 28881
          }
        },
        "7f9740ffff6b4dc79e7c0921f839f7d1": {
          "model_module": "@jupyter-widgets/controls",
          "model_name": "HTMLModel",
          "model_module_version": "1.5.0",
          "state": {
            "_dom_classes": [],
            "_model_module": "@jupyter-widgets/controls",
            "_model_module_version": "1.5.0",
            "_model_name": "HTMLModel",
            "_view_count": null,
            "_view_module": "@jupyter-widgets/controls",
            "_view_module_version": "1.5.0",
            "_view_name": "HTMLView",
            "description": "",
            "description_tooltip": null,
            "layout": "IPY_MODEL_c82053c7e939494780096bad0b7e608a",
            "placeholder": "​",
            "style": "IPY_MODEL_d9d4777644aa4e6489f78dcb9c24c54e",
            "value": " 28881/28881 [00:00&lt;00:00, 698478.30it/s]"
          }
        },
        "c340efc0b0104b509cade8559c40c9a3": {
          "model_module": "@jupyter-widgets/base",
          "model_name": "LayoutModel",
          "model_module_version": "1.2.0",
          "state": {
            "_model_module": "@jupyter-widgets/base",
            "_model_module_version": "1.2.0",
            "_model_name": "LayoutModel",
            "_view_count": null,
            "_view_module": "@jupyter-widgets/base",
            "_view_module_version": "1.2.0",
            "_view_name": "LayoutView",
            "align_content": null,
            "align_items": null,
            "align_self": null,
            "border": null,
            "bottom": null,
            "display": null,
            "flex": null,
            "flex_flow": null,
            "grid_area": null,
            "grid_auto_columns": null,
            "grid_auto_flow": null,
            "grid_auto_rows": null,
            "grid_column": null,
            "grid_gap": null,
            "grid_row": null,
            "grid_template_areas": null,
            "grid_template_columns": null,
            "grid_template_rows": null,
            "height": null,
            "justify_content": null,
            "justify_items": null,
            "left": null,
            "margin": null,
            "max_height": null,
            "max_width": null,
            "min_height": null,
            "min_width": null,
            "object_fit": null,
            "object_position": null,
            "order": null,
            "overflow": null,
            "overflow_x": null,
            "overflow_y": null,
            "padding": null,
            "right": null,
            "top": null,
            "visibility": null,
            "width": null
          }
        },
        "1a5f2e3f3d004b349de5358c054c97cc": {
          "model_module": "@jupyter-widgets/base",
          "model_name": "LayoutModel",
          "model_module_version": "1.2.0",
          "state": {
            "_model_module": "@jupyter-widgets/base",
            "_model_module_version": "1.2.0",
            "_model_name": "LayoutModel",
            "_view_count": null,
            "_view_module": "@jupyter-widgets/base",
            "_view_module_version": "1.2.0",
            "_view_name": "LayoutView",
            "align_content": null,
            "align_items": null,
            "align_self": null,
            "border": null,
            "bottom": null,
            "display": null,
            "flex": null,
            "flex_flow": null,
            "grid_area": null,
            "grid_auto_columns": null,
            "grid_auto_flow": null,
            "grid_auto_rows": null,
            "grid_column": null,
            "grid_gap": null,
            "grid_row": null,
            "grid_template_areas": null,
            "grid_template_columns": null,
            "grid_template_rows": null,
            "height": null,
            "justify_content": null,
            "justify_items": null,
            "left": null,
            "margin": null,
            "max_height": null,
            "max_width": null,
            "min_height": null,
            "min_width": null,
            "object_fit": null,
            "object_position": null,
            "order": null,
            "overflow": null,
            "overflow_x": null,
            "overflow_y": null,
            "padding": null,
            "right": null,
            "top": null,
            "visibility": null,
            "width": null
          }
        },
        "314751186b6741f398a4d7ba805dfbeb": {
          "model_module": "@jupyter-widgets/controls",
          "model_name": "DescriptionStyleModel",
          "model_module_version": "1.5.0",
          "state": {
            "_model_module": "@jupyter-widgets/controls",
            "_model_module_version": "1.5.0",
            "_model_name": "DescriptionStyleModel",
            "_view_count": null,
            "_view_module": "@jupyter-widgets/base",
            "_view_module_version": "1.2.0",
            "_view_name": "StyleView",
            "description_width": ""
          }
        },
        "aa00efc9a907470cae979e152d9c5716": {
          "model_module": "@jupyter-widgets/base",
          "model_name": "LayoutModel",
          "model_module_version": "1.2.0",
          "state": {
            "_model_module": "@jupyter-widgets/base",
            "_model_module_version": "1.2.0",
            "_model_name": "LayoutModel",
            "_view_count": null,
            "_view_module": "@jupyter-widgets/base",
            "_view_module_version": "1.2.0",
            "_view_name": "LayoutView",
            "align_content": null,
            "align_items": null,
            "align_self": null,
            "border": null,
            "bottom": null,
            "display": null,
            "flex": null,
            "flex_flow": null,
            "grid_area": null,
            "grid_auto_columns": null,
            "grid_auto_flow": null,
            "grid_auto_rows": null,
            "grid_column": null,
            "grid_gap": null,
            "grid_row": null,
            "grid_template_areas": null,
            "grid_template_columns": null,
            "grid_template_rows": null,
            "height": null,
            "justify_content": null,
            "justify_items": null,
            "left": null,
            "margin": null,
            "max_height": null,
            "max_width": null,
            "min_height": null,
            "min_width": null,
            "object_fit": null,
            "object_position": null,
            "order": null,
            "overflow": null,
            "overflow_x": null,
            "overflow_y": null,
            "padding": null,
            "right": null,
            "top": null,
            "visibility": null,
            "width": null
          }
        },
        "6447a0a26e5545fabbf12e3a823448bd": {
          "model_module": "@jupyter-widgets/controls",
          "model_name": "ProgressStyleModel",
          "model_module_version": "1.5.0",
          "state": {
            "_model_module": "@jupyter-widgets/controls",
            "_model_module_version": "1.5.0",
            "_model_name": "ProgressStyleModel",
            "_view_count": null,
            "_view_module": "@jupyter-widgets/base",
            "_view_module_version": "1.2.0",
            "_view_name": "StyleView",
            "bar_color": null,
            "description_width": ""
          }
        },
        "c82053c7e939494780096bad0b7e608a": {
          "model_module": "@jupyter-widgets/base",
          "model_name": "LayoutModel",
          "model_module_version": "1.2.0",
          "state": {
            "_model_module": "@jupyter-widgets/base",
            "_model_module_version": "1.2.0",
            "_model_name": "LayoutModel",
            "_view_count": null,
            "_view_module": "@jupyter-widgets/base",
            "_view_module_version": "1.2.0",
            "_view_name": "LayoutView",
            "align_content": null,
            "align_items": null,
            "align_self": null,
            "border": null,
            "bottom": null,
            "display": null,
            "flex": null,
            "flex_flow": null,
            "grid_area": null,
            "grid_auto_columns": null,
            "grid_auto_flow": null,
            "grid_auto_rows": null,
            "grid_column": null,
            "grid_gap": null,
            "grid_row": null,
            "grid_template_areas": null,
            "grid_template_columns": null,
            "grid_template_rows": null,
            "height": null,
            "justify_content": null,
            "justify_items": null,
            "left": null,
            "margin": null,
            "max_height": null,
            "max_width": null,
            "min_height": null,
            "min_width": null,
            "object_fit": null,
            "object_position": null,
            "order": null,
            "overflow": null,
            "overflow_x": null,
            "overflow_y": null,
            "padding": null,
            "right": null,
            "top": null,
            "visibility": null,
            "width": null
          }
        },
        "d9d4777644aa4e6489f78dcb9c24c54e": {
          "model_module": "@jupyter-widgets/controls",
          "model_name": "DescriptionStyleModel",
          "model_module_version": "1.5.0",
          "state": {
            "_model_module": "@jupyter-widgets/controls",
            "_model_module_version": "1.5.0",
            "_model_name": "DescriptionStyleModel",
            "_view_count": null,
            "_view_module": "@jupyter-widgets/base",
            "_view_module_version": "1.2.0",
            "_view_name": "StyleView",
            "description_width": ""
          }
        },
        "df2b1686a2d2452a80bcdca22a6e259a": {
          "model_module": "@jupyter-widgets/controls",
          "model_name": "HBoxModel",
          "model_module_version": "1.5.0",
          "state": {
            "_dom_classes": [],
            "_model_module": "@jupyter-widgets/controls",
            "_model_module_version": "1.5.0",
            "_model_name": "HBoxModel",
            "_view_count": null,
            "_view_module": "@jupyter-widgets/controls",
            "_view_module_version": "1.5.0",
            "_view_name": "HBoxView",
            "box_style": "",
            "children": [
              "IPY_MODEL_884deed590f1457db38188e901088fcb",
              "IPY_MODEL_e9df193467ec4fd1af24441860ec7062",
              "IPY_MODEL_c5e76d4665dd4811abf3490c2edf92a0"
            ],
            "layout": "IPY_MODEL_d3224ae6d9d14469beb4cbd5b23094df"
          }
        },
        "884deed590f1457db38188e901088fcb": {
          "model_module": "@jupyter-widgets/controls",
          "model_name": "HTMLModel",
          "model_module_version": "1.5.0",
          "state": {
            "_dom_classes": [],
            "_model_module": "@jupyter-widgets/controls",
            "_model_module_version": "1.5.0",
            "_model_name": "HTMLModel",
            "_view_count": null,
            "_view_module": "@jupyter-widgets/controls",
            "_view_module_version": "1.5.0",
            "_view_name": "HTMLView",
            "description": "",
            "description_tooltip": null,
            "layout": "IPY_MODEL_96f43e6bc4864e6f9fe16709c7e43a04",
            "placeholder": "​",
            "style": "IPY_MODEL_945bfa2f0bb34ec6b5e9c530b913c720",
            "value": "100%"
          }
        },
        "e9df193467ec4fd1af24441860ec7062": {
          "model_module": "@jupyter-widgets/controls",
          "model_name": "FloatProgressModel",
          "model_module_version": "1.5.0",
          "state": {
            "_dom_classes": [],
            "_model_module": "@jupyter-widgets/controls",
            "_model_module_version": "1.5.0",
            "_model_name": "FloatProgressModel",
            "_view_count": null,
            "_view_module": "@jupyter-widgets/controls",
            "_view_module_version": "1.5.0",
            "_view_name": "ProgressView",
            "bar_style": "success",
            "description": "",
            "description_tooltip": null,
            "layout": "IPY_MODEL_8411d8b3a31648eab04c1db006bfec14",
            "max": 1648877,
            "min": 0,
            "orientation": "horizontal",
            "style": "IPY_MODEL_1af8927c1f6a44839cfd4b9ab6467bd2",
            "value": 1648877
          }
        },
        "c5e76d4665dd4811abf3490c2edf92a0": {
          "model_module": "@jupyter-widgets/controls",
          "model_name": "HTMLModel",
          "model_module_version": "1.5.0",
          "state": {
            "_dom_classes": [],
            "_model_module": "@jupyter-widgets/controls",
            "_model_module_version": "1.5.0",
            "_model_name": "HTMLModel",
            "_view_count": null,
            "_view_module": "@jupyter-widgets/controls",
            "_view_module_version": "1.5.0",
            "_view_name": "HTMLView",
            "description": "",
            "description_tooltip": null,
            "layout": "IPY_MODEL_ae8980ac00f3405391bde4fdaab1fe09",
            "placeholder": "​",
            "style": "IPY_MODEL_3f7dfe6b299845e39ae429d61e8ca952",
            "value": " 1648877/1648877 [00:00&lt;00:00, 20283169.33it/s]"
          }
        },
        "d3224ae6d9d14469beb4cbd5b23094df": {
          "model_module": "@jupyter-widgets/base",
          "model_name": "LayoutModel",
          "model_module_version": "1.2.0",
          "state": {
            "_model_module": "@jupyter-widgets/base",
            "_model_module_version": "1.2.0",
            "_model_name": "LayoutModel",
            "_view_count": null,
            "_view_module": "@jupyter-widgets/base",
            "_view_module_version": "1.2.0",
            "_view_name": "LayoutView",
            "align_content": null,
            "align_items": null,
            "align_self": null,
            "border": null,
            "bottom": null,
            "display": null,
            "flex": null,
            "flex_flow": null,
            "grid_area": null,
            "grid_auto_columns": null,
            "grid_auto_flow": null,
            "grid_auto_rows": null,
            "grid_column": null,
            "grid_gap": null,
            "grid_row": null,
            "grid_template_areas": null,
            "grid_template_columns": null,
            "grid_template_rows": null,
            "height": null,
            "justify_content": null,
            "justify_items": null,
            "left": null,
            "margin": null,
            "max_height": null,
            "max_width": null,
            "min_height": null,
            "min_width": null,
            "object_fit": null,
            "object_position": null,
            "order": null,
            "overflow": null,
            "overflow_x": null,
            "overflow_y": null,
            "padding": null,
            "right": null,
            "top": null,
            "visibility": null,
            "width": null
          }
        },
        "96f43e6bc4864e6f9fe16709c7e43a04": {
          "model_module": "@jupyter-widgets/base",
          "model_name": "LayoutModel",
          "model_module_version": "1.2.0",
          "state": {
            "_model_module": "@jupyter-widgets/base",
            "_model_module_version": "1.2.0",
            "_model_name": "LayoutModel",
            "_view_count": null,
            "_view_module": "@jupyter-widgets/base",
            "_view_module_version": "1.2.0",
            "_view_name": "LayoutView",
            "align_content": null,
            "align_items": null,
            "align_self": null,
            "border": null,
            "bottom": null,
            "display": null,
            "flex": null,
            "flex_flow": null,
            "grid_area": null,
            "grid_auto_columns": null,
            "grid_auto_flow": null,
            "grid_auto_rows": null,
            "grid_column": null,
            "grid_gap": null,
            "grid_row": null,
            "grid_template_areas": null,
            "grid_template_columns": null,
            "grid_template_rows": null,
            "height": null,
            "justify_content": null,
            "justify_items": null,
            "left": null,
            "margin": null,
            "max_height": null,
            "max_width": null,
            "min_height": null,
            "min_width": null,
            "object_fit": null,
            "object_position": null,
            "order": null,
            "overflow": null,
            "overflow_x": null,
            "overflow_y": null,
            "padding": null,
            "right": null,
            "top": null,
            "visibility": null,
            "width": null
          }
        },
        "945bfa2f0bb34ec6b5e9c530b913c720": {
          "model_module": "@jupyter-widgets/controls",
          "model_name": "DescriptionStyleModel",
          "model_module_version": "1.5.0",
          "state": {
            "_model_module": "@jupyter-widgets/controls",
            "_model_module_version": "1.5.0",
            "_model_name": "DescriptionStyleModel",
            "_view_count": null,
            "_view_module": "@jupyter-widgets/base",
            "_view_module_version": "1.2.0",
            "_view_name": "StyleView",
            "description_width": ""
          }
        },
        "8411d8b3a31648eab04c1db006bfec14": {
          "model_module": "@jupyter-widgets/base",
          "model_name": "LayoutModel",
          "model_module_version": "1.2.0",
          "state": {
            "_model_module": "@jupyter-widgets/base",
            "_model_module_version": "1.2.0",
            "_model_name": "LayoutModel",
            "_view_count": null,
            "_view_module": "@jupyter-widgets/base",
            "_view_module_version": "1.2.0",
            "_view_name": "LayoutView",
            "align_content": null,
            "align_items": null,
            "align_self": null,
            "border": null,
            "bottom": null,
            "display": null,
            "flex": null,
            "flex_flow": null,
            "grid_area": null,
            "grid_auto_columns": null,
            "grid_auto_flow": null,
            "grid_auto_rows": null,
            "grid_column": null,
            "grid_gap": null,
            "grid_row": null,
            "grid_template_areas": null,
            "grid_template_columns": null,
            "grid_template_rows": null,
            "height": null,
            "justify_content": null,
            "justify_items": null,
            "left": null,
            "margin": null,
            "max_height": null,
            "max_width": null,
            "min_height": null,
            "min_width": null,
            "object_fit": null,
            "object_position": null,
            "order": null,
            "overflow": null,
            "overflow_x": null,
            "overflow_y": null,
            "padding": null,
            "right": null,
            "top": null,
            "visibility": null,
            "width": null
          }
        },
        "1af8927c1f6a44839cfd4b9ab6467bd2": {
          "model_module": "@jupyter-widgets/controls",
          "model_name": "ProgressStyleModel",
          "model_module_version": "1.5.0",
          "state": {
            "_model_module": "@jupyter-widgets/controls",
            "_model_module_version": "1.5.0",
            "_model_name": "ProgressStyleModel",
            "_view_count": null,
            "_view_module": "@jupyter-widgets/base",
            "_view_module_version": "1.2.0",
            "_view_name": "StyleView",
            "bar_color": null,
            "description_width": ""
          }
        },
        "ae8980ac00f3405391bde4fdaab1fe09": {
          "model_module": "@jupyter-widgets/base",
          "model_name": "LayoutModel",
          "model_module_version": "1.2.0",
          "state": {
            "_model_module": "@jupyter-widgets/base",
            "_model_module_version": "1.2.0",
            "_model_name": "LayoutModel",
            "_view_count": null,
            "_view_module": "@jupyter-widgets/base",
            "_view_module_version": "1.2.0",
            "_view_name": "LayoutView",
            "align_content": null,
            "align_items": null,
            "align_self": null,
            "border": null,
            "bottom": null,
            "display": null,
            "flex": null,
            "flex_flow": null,
            "grid_area": null,
            "grid_auto_columns": null,
            "grid_auto_flow": null,
            "grid_auto_rows": null,
            "grid_column": null,
            "grid_gap": null,
            "grid_row": null,
            "grid_template_areas": null,
            "grid_template_columns": null,
            "grid_template_rows": null,
            "height": null,
            "justify_content": null,
            "justify_items": null,
            "left": null,
            "margin": null,
            "max_height": null,
            "max_width": null,
            "min_height": null,
            "min_width": null,
            "object_fit": null,
            "object_position": null,
            "order": null,
            "overflow": null,
            "overflow_x": null,
            "overflow_y": null,
            "padding": null,
            "right": null,
            "top": null,
            "visibility": null,
            "width": null
          }
        },
        "3f7dfe6b299845e39ae429d61e8ca952": {
          "model_module": "@jupyter-widgets/controls",
          "model_name": "DescriptionStyleModel",
          "model_module_version": "1.5.0",
          "state": {
            "_model_module": "@jupyter-widgets/controls",
            "_model_module_version": "1.5.0",
            "_model_name": "DescriptionStyleModel",
            "_view_count": null,
            "_view_module": "@jupyter-widgets/base",
            "_view_module_version": "1.2.0",
            "_view_name": "StyleView",
            "description_width": ""
          }
        },
        "c00eb67a90184381a46d877ee1aceba1": {
          "model_module": "@jupyter-widgets/controls",
          "model_name": "HBoxModel",
          "model_module_version": "1.5.0",
          "state": {
            "_dom_classes": [],
            "_model_module": "@jupyter-widgets/controls",
            "_model_module_version": "1.5.0",
            "_model_name": "HBoxModel",
            "_view_count": null,
            "_view_module": "@jupyter-widgets/controls",
            "_view_module_version": "1.5.0",
            "_view_name": "HBoxView",
            "box_style": "",
            "children": [
              "IPY_MODEL_0d6f47a049334523be1edb0c2ced5df8",
              "IPY_MODEL_8fca9085bd9e474fbf063e3e1f5cb590",
              "IPY_MODEL_8a7b92c575484c54a75e88c54546ba01"
            ],
            "layout": "IPY_MODEL_b642d71eb45b4156a615927e89a2ffb2"
          }
        },
        "0d6f47a049334523be1edb0c2ced5df8": {
          "model_module": "@jupyter-widgets/controls",
          "model_name": "HTMLModel",
          "model_module_version": "1.5.0",
          "state": {
            "_dom_classes": [],
            "_model_module": "@jupyter-widgets/controls",
            "_model_module_version": "1.5.0",
            "_model_name": "HTMLModel",
            "_view_count": null,
            "_view_module": "@jupyter-widgets/controls",
            "_view_module_version": "1.5.0",
            "_view_name": "HTMLView",
            "description": "",
            "description_tooltip": null,
            "layout": "IPY_MODEL_c746aa9fc0bb4eeca76c42ccaed6df49",
            "placeholder": "​",
            "style": "IPY_MODEL_10b3b379d3804d72adfc787166c473ce",
            "value": "100%"
          }
        },
        "8fca9085bd9e474fbf063e3e1f5cb590": {
          "model_module": "@jupyter-widgets/controls",
          "model_name": "FloatProgressModel",
          "model_module_version": "1.5.0",
          "state": {
            "_dom_classes": [],
            "_model_module": "@jupyter-widgets/controls",
            "_model_module_version": "1.5.0",
            "_model_name": "FloatProgressModel",
            "_view_count": null,
            "_view_module": "@jupyter-widgets/controls",
            "_view_module_version": "1.5.0",
            "_view_name": "ProgressView",
            "bar_style": "success",
            "description": "",
            "description_tooltip": null,
            "layout": "IPY_MODEL_dc70e597c9b74033b1feed3174d635cb",
            "max": 4542,
            "min": 0,
            "orientation": "horizontal",
            "style": "IPY_MODEL_77fdb53146954997a85f1daa45670447",
            "value": 4542
          }
        },
        "8a7b92c575484c54a75e88c54546ba01": {
          "model_module": "@jupyter-widgets/controls",
          "model_name": "HTMLModel",
          "model_module_version": "1.5.0",
          "state": {
            "_dom_classes": [],
            "_model_module": "@jupyter-widgets/controls",
            "_model_module_version": "1.5.0",
            "_model_name": "HTMLModel",
            "_view_count": null,
            "_view_module": "@jupyter-widgets/controls",
            "_view_module_version": "1.5.0",
            "_view_name": "HTMLView",
            "description": "",
            "description_tooltip": null,
            "layout": "IPY_MODEL_b436441c92fd4dfba356874aaa639277",
            "placeholder": "​",
            "style": "IPY_MODEL_cd352037ee934509a9aa7941a9bda9d3",
            "value": " 4542/4542 [00:00&lt;00:00, 104574.41it/s]"
          }
        },
        "b642d71eb45b4156a615927e89a2ffb2": {
          "model_module": "@jupyter-widgets/base",
          "model_name": "LayoutModel",
          "model_module_version": "1.2.0",
          "state": {
            "_model_module": "@jupyter-widgets/base",
            "_model_module_version": "1.2.0",
            "_model_name": "LayoutModel",
            "_view_count": null,
            "_view_module": "@jupyter-widgets/base",
            "_view_module_version": "1.2.0",
            "_view_name": "LayoutView",
            "align_content": null,
            "align_items": null,
            "align_self": null,
            "border": null,
            "bottom": null,
            "display": null,
            "flex": null,
            "flex_flow": null,
            "grid_area": null,
            "grid_auto_columns": null,
            "grid_auto_flow": null,
            "grid_auto_rows": null,
            "grid_column": null,
            "grid_gap": null,
            "grid_row": null,
            "grid_template_areas": null,
            "grid_template_columns": null,
            "grid_template_rows": null,
            "height": null,
            "justify_content": null,
            "justify_items": null,
            "left": null,
            "margin": null,
            "max_height": null,
            "max_width": null,
            "min_height": null,
            "min_width": null,
            "object_fit": null,
            "object_position": null,
            "order": null,
            "overflow": null,
            "overflow_x": null,
            "overflow_y": null,
            "padding": null,
            "right": null,
            "top": null,
            "visibility": null,
            "width": null
          }
        },
        "c746aa9fc0bb4eeca76c42ccaed6df49": {
          "model_module": "@jupyter-widgets/base",
          "model_name": "LayoutModel",
          "model_module_version": "1.2.0",
          "state": {
            "_model_module": "@jupyter-widgets/base",
            "_model_module_version": "1.2.0",
            "_model_name": "LayoutModel",
            "_view_count": null,
            "_view_module": "@jupyter-widgets/base",
            "_view_module_version": "1.2.0",
            "_view_name": "LayoutView",
            "align_content": null,
            "align_items": null,
            "align_self": null,
            "border": null,
            "bottom": null,
            "display": null,
            "flex": null,
            "flex_flow": null,
            "grid_area": null,
            "grid_auto_columns": null,
            "grid_auto_flow": null,
            "grid_auto_rows": null,
            "grid_column": null,
            "grid_gap": null,
            "grid_row": null,
            "grid_template_areas": null,
            "grid_template_columns": null,
            "grid_template_rows": null,
            "height": null,
            "justify_content": null,
            "justify_items": null,
            "left": null,
            "margin": null,
            "max_height": null,
            "max_width": null,
            "min_height": null,
            "min_width": null,
            "object_fit": null,
            "object_position": null,
            "order": null,
            "overflow": null,
            "overflow_x": null,
            "overflow_y": null,
            "padding": null,
            "right": null,
            "top": null,
            "visibility": null,
            "width": null
          }
        },
        "10b3b379d3804d72adfc787166c473ce": {
          "model_module": "@jupyter-widgets/controls",
          "model_name": "DescriptionStyleModel",
          "model_module_version": "1.5.0",
          "state": {
            "_model_module": "@jupyter-widgets/controls",
            "_model_module_version": "1.5.0",
            "_model_name": "DescriptionStyleModel",
            "_view_count": null,
            "_view_module": "@jupyter-widgets/base",
            "_view_module_version": "1.2.0",
            "_view_name": "StyleView",
            "description_width": ""
          }
        },
        "dc70e597c9b74033b1feed3174d635cb": {
          "model_module": "@jupyter-widgets/base",
          "model_name": "LayoutModel",
          "model_module_version": "1.2.0",
          "state": {
            "_model_module": "@jupyter-widgets/base",
            "_model_module_version": "1.2.0",
            "_model_name": "LayoutModel",
            "_view_count": null,
            "_view_module": "@jupyter-widgets/base",
            "_view_module_version": "1.2.0",
            "_view_name": "LayoutView",
            "align_content": null,
            "align_items": null,
            "align_self": null,
            "border": null,
            "bottom": null,
            "display": null,
            "flex": null,
            "flex_flow": null,
            "grid_area": null,
            "grid_auto_columns": null,
            "grid_auto_flow": null,
            "grid_auto_rows": null,
            "grid_column": null,
            "grid_gap": null,
            "grid_row": null,
            "grid_template_areas": null,
            "grid_template_columns": null,
            "grid_template_rows": null,
            "height": null,
            "justify_content": null,
            "justify_items": null,
            "left": null,
            "margin": null,
            "max_height": null,
            "max_width": null,
            "min_height": null,
            "min_width": null,
            "object_fit": null,
            "object_position": null,
            "order": null,
            "overflow": null,
            "overflow_x": null,
            "overflow_y": null,
            "padding": null,
            "right": null,
            "top": null,
            "visibility": null,
            "width": null
          }
        },
        "77fdb53146954997a85f1daa45670447": {
          "model_module": "@jupyter-widgets/controls",
          "model_name": "ProgressStyleModel",
          "model_module_version": "1.5.0",
          "state": {
            "_model_module": "@jupyter-widgets/controls",
            "_model_module_version": "1.5.0",
            "_model_name": "ProgressStyleModel",
            "_view_count": null,
            "_view_module": "@jupyter-widgets/base",
            "_view_module_version": "1.2.0",
            "_view_name": "StyleView",
            "bar_color": null,
            "description_width": ""
          }
        },
        "b436441c92fd4dfba356874aaa639277": {
          "model_module": "@jupyter-widgets/base",
          "model_name": "LayoutModel",
          "model_module_version": "1.2.0",
          "state": {
            "_model_module": "@jupyter-widgets/base",
            "_model_module_version": "1.2.0",
            "_model_name": "LayoutModel",
            "_view_count": null,
            "_view_module": "@jupyter-widgets/base",
            "_view_module_version": "1.2.0",
            "_view_name": "LayoutView",
            "align_content": null,
            "align_items": null,
            "align_self": null,
            "border": null,
            "bottom": null,
            "display": null,
            "flex": null,
            "flex_flow": null,
            "grid_area": null,
            "grid_auto_columns": null,
            "grid_auto_flow": null,
            "grid_auto_rows": null,
            "grid_column": null,
            "grid_gap": null,
            "grid_row": null,
            "grid_template_areas": null,
            "grid_template_columns": null,
            "grid_template_rows": null,
            "height": null,
            "justify_content": null,
            "justify_items": null,
            "left": null,
            "margin": null,
            "max_height": null,
            "max_width": null,
            "min_height": null,
            "min_width": null,
            "object_fit": null,
            "object_position": null,
            "order": null,
            "overflow": null,
            "overflow_x": null,
            "overflow_y": null,
            "padding": null,
            "right": null,
            "top": null,
            "visibility": null,
            "width": null
          }
        },
        "cd352037ee934509a9aa7941a9bda9d3": {
          "model_module": "@jupyter-widgets/controls",
          "model_name": "DescriptionStyleModel",
          "model_module_version": "1.5.0",
          "state": {
            "_model_module": "@jupyter-widgets/controls",
            "_model_module_version": "1.5.0",
            "_model_name": "DescriptionStyleModel",
            "_view_count": null,
            "_view_module": "@jupyter-widgets/base",
            "_view_module_version": "1.2.0",
            "_view_name": "StyleView",
            "description_width": ""
          }
        }
      }
    }
  },
  "cells": [
    {
      "cell_type": "code",
      "execution_count": null,
      "metadata": {
        "id": "HFDpp1MYo_Nv"
      },
      "outputs": [],
      "source": [
        "# install avalanche\n",
        "!pip install avalanche-lib==0.2.1"
      ]
    },
    {
      "cell_type": "markdown",
      "source": [
        "# Example "
      ],
      "metadata": {
        "id": "BvZhRd_6vkzq"
      }
    },
    {
      "cell_type": "markdown",
      "source": [
        "**Avalanche datasets**: \n",
        "```\n",
        "from avalanche.benchmarks.datasets import MNIST, FashionMNIST, KMNIST, EMNIST, \\\n",
        "    QMNIST, FakeData, CocoCaptions, CocoDetection, LSUN, ImageNet, CIFAR10, \\\n",
        "    CIFAR100, STL10, SVHN, PhotoTour, SBU, Flickr8k, Flickr30k, VOCDetection, \\\n",
        "    VOCSegmentation, Cityscapes, SBDataset, USPS, Kinetics400, HMDB51, UCF101, \\\n",
        "    CelebA, CORe50Dataset, TinyImagenet, CUB200, OpenLORIS, MiniImageNetDataset, Stream51, \\\n",
        "    CLEARDataset\n",
        "```\n",
        "\n"
      ],
      "metadata": {
        "id": "BQOVWH9dqh7f"
      }
    },
    {
      "cell_type": "markdown",
      "source": [
        "----------"
      ],
      "metadata": {
        "id": "yGLtxBQprZrT"
      }
    },
    {
      "cell_type": "markdown",
      "source": [
        "**Avalanche Benchmark**: can collect stream data (newest data); and profrom training and testing at the same time"
      ],
      "metadata": {
        "id": "9nj81wzErE7e"
      }
    },
    {
      "cell_type": "code",
      "source": [
        "# import avalanche benchmarks\n",
        "from avalanche.benchmarks.classic import CORe50, SplitTinyImageNet, SplitCIFAR10, \\\n",
        "    SplitCIFAR100, SplitCIFAR110, SplitMNIST, RotatedMNIST, PermutedMNIST, SplitCUB200"
      ],
      "metadata": {
        "id": "lHX1Hpy_prkZ"
      },
      "execution_count": null,
      "outputs": []
    },
    {
      "cell_type": "code",
      "source": [
        "# creating the benchmark (scenario object)\n",
        "perm_mnist = PermutedMNIST(\n",
        "    n_experiences=3,\n",
        "    seed=1234,\n",
        ")"
      ],
      "metadata": {
        "id": "kIEundbiprh6"
      },
      "execution_count": null,
      "outputs": []
    },
    {
      "cell_type": "code",
      "source": [
        "# recovering the train and test streams\n",
        "train_stream = perm_mnist.train_stream\n",
        "test_stream = perm_mnist.test_stream"
      ],
      "metadata": {
        "id": "KCAe_nNPprfM"
      },
      "execution_count": null,
      "outputs": []
    },
    {
      "cell_type": "code",
      "source": [
        "# iterating over the train stream\n",
        "for experience in train_stream:\n",
        "    print(\"Start of task \", experience.task_label)\n",
        "    print('Classes in this task:', experience.classes_in_this_experience)\n",
        "\n",
        "    # The current Pytorch training set can be easily recovered through the \n",
        "    # experience\n",
        "    current_training_set = experience.dataset\n",
        "    # ...as well as the task_label\n",
        "    print('Task {}'.format(experience.task_label))\n",
        "    print('This task contains', len(current_training_set), 'training examples')\n",
        "\n",
        "    # we can recover the corresponding test experience in the test stream\n",
        "    current_test_set = test_stream[experience.current_experience].dataset\n",
        "    print('This task contains', len(current_test_set), 'test examples')"
      ],
      "metadata": {
        "colab": {
          "base_uri": "https://localhost:8080/"
        },
        "id": "3jT-Y54_prce",
        "outputId": "f37f7b31-4771-42e2-c1e1-b671f8f6ab33"
      },
      "execution_count": null,
      "outputs": [
        {
          "output_type": "stream",
          "name": "stdout",
          "text": [
            "Start of task  0\n",
            "Classes in this task: [0, 1, 2, 3, 4, 5, 6, 7, 8, 9]\n",
            "Task 0\n",
            "This task contains 60000 training examples\n",
            "This task contains 10000 test examples\n",
            "Start of task  1\n",
            "Classes in this task: [0, 1, 2, 3, 4, 5, 6, 7, 8, 9]\n",
            "Task 1\n",
            "This task contains 60000 training examples\n",
            "This task contains 10000 test examples\n",
            "Start of task  2\n",
            "Classes in this task: [0, 1, 2, 3, 4, 5, 6, 7, 8, 9]\n",
            "Task 2\n",
            "This task contains 60000 training examples\n",
            "This task contains 10000 test examples\n"
          ]
        }
      ]
    },
    {
      "cell_type": "markdown",
      "source": [
        "---------\n"
      ],
      "metadata": {
        "id": "j_1DYA9nsAgO"
      }
    },
    {
      "cell_type": "markdown",
      "source": [
        "**Benchmark generators**"
      ],
      "metadata": {
        "id": "n_Hue64KsB7I"
      }
    },
    {
      "cell_type": "code",
      "source": [
        "from avalanche.benchmarks.generators import nc_benchmark, ni_benchmark\n",
        "from torchvision.datasets import MNIST"
      ],
      "metadata": {
        "id": "E0T-sBZKprZl"
      },
      "execution_count": null,
      "outputs": []
    },
    {
      "cell_type": "code",
      "source": [
        "mnist_train = MNIST('.', train=True, download=True)\n",
        "mnist_test = MNIST('.', train=False)\n",
        "\n",
        "# create benchmarks for MNIST dataset\n",
        "benchmark = ni_benchmark(\n",
        "    mnist_train, mnist_test, n_experiences=10, shuffle=True, seed=1234,\n",
        "    balance_experiences=True\n",
        ")\n",
        "benchmark = nc_benchmark(\n",
        "    mnist_train, mnist_test, n_experiences=10, shuffle=True, seed=1234,\n",
        "    task_labels=False\n",
        ")"
      ],
      "metadata": {
        "colab": {
          "base_uri": "https://localhost:8080/",
          "height": 435,
          "referenced_widgets": [
            "40294d9c2f214499947f31c4c3ee9232",
            "bca41899fff0415886de1aaba648e791",
            "1ff1626f357440398f6f3612319bd017",
            "8203701505374542a01d0e73ac2ea594",
            "9966a27d33cc453799d36435b4e1c8cb",
            "da10f351905f406f8c5137c86d257eea",
            "bf0b50853e624a49b09e7c91997845df",
            "e6034c44210549f1b4fa4adc1a0083d8",
            "e4648be3bacc4d31aa8e64580623e7f4",
            "19a3d17e28e44c6981846cbb5db8a259",
            "f8949145e071488aadc550cc272cb506",
            "2ae3fa32b3f94900ae4d62216548157b",
            "3966c0d33ffa4252887ceb5bec493549",
            "7c4173ec5601425d836ea05ace0cbc66",
            "7f9740ffff6b4dc79e7c0921f839f7d1",
            "c340efc0b0104b509cade8559c40c9a3",
            "1a5f2e3f3d004b349de5358c054c97cc",
            "314751186b6741f398a4d7ba805dfbeb",
            "aa00efc9a907470cae979e152d9c5716",
            "6447a0a26e5545fabbf12e3a823448bd",
            "c82053c7e939494780096bad0b7e608a",
            "d9d4777644aa4e6489f78dcb9c24c54e",
            "df2b1686a2d2452a80bcdca22a6e259a",
            "884deed590f1457db38188e901088fcb",
            "e9df193467ec4fd1af24441860ec7062",
            "c5e76d4665dd4811abf3490c2edf92a0",
            "d3224ae6d9d14469beb4cbd5b23094df",
            "96f43e6bc4864e6f9fe16709c7e43a04",
            "945bfa2f0bb34ec6b5e9c530b913c720",
            "8411d8b3a31648eab04c1db006bfec14",
            "1af8927c1f6a44839cfd4b9ab6467bd2",
            "ae8980ac00f3405391bde4fdaab1fe09",
            "3f7dfe6b299845e39ae429d61e8ca952",
            "c00eb67a90184381a46d877ee1aceba1",
            "0d6f47a049334523be1edb0c2ced5df8",
            "8fca9085bd9e474fbf063e3e1f5cb590",
            "8a7b92c575484c54a75e88c54546ba01",
            "b642d71eb45b4156a615927e89a2ffb2",
            "c746aa9fc0bb4eeca76c42ccaed6df49",
            "10b3b379d3804d72adfc787166c473ce",
            "dc70e597c9b74033b1feed3174d635cb",
            "77fdb53146954997a85f1daa45670447",
            "b436441c92fd4dfba356874aaa639277",
            "cd352037ee934509a9aa7941a9bda9d3"
          ]
        },
        "id": "1_SiKtSyprWi",
        "outputId": "04a6f44b-d67d-48f0-f65b-60dd5d2096ca"
      },
      "execution_count": null,
      "outputs": [
        {
          "output_type": "stream",
          "name": "stdout",
          "text": [
            "Downloading http://yann.lecun.com/exdb/mnist/train-images-idx3-ubyte.gz\n",
            "Downloading http://yann.lecun.com/exdb/mnist/train-images-idx3-ubyte.gz to ./MNIST/raw/train-images-idx3-ubyte.gz\n"
          ]
        },
        {
          "output_type": "display_data",
          "data": {
            "text/plain": [
              "  0%|          | 0/9912422 [00:00<?, ?it/s]"
            ],
            "application/vnd.jupyter.widget-view+json": {
              "version_major": 2,
              "version_minor": 0,
              "model_id": "40294d9c2f214499947f31c4c3ee9232"
            }
          },
          "metadata": {}
        },
        {
          "output_type": "stream",
          "name": "stdout",
          "text": [
            "Extracting ./MNIST/raw/train-images-idx3-ubyte.gz to ./MNIST/raw\n",
            "\n",
            "Downloading http://yann.lecun.com/exdb/mnist/train-labels-idx1-ubyte.gz\n",
            "Downloading http://yann.lecun.com/exdb/mnist/train-labels-idx1-ubyte.gz to ./MNIST/raw/train-labels-idx1-ubyte.gz\n"
          ]
        },
        {
          "output_type": "display_data",
          "data": {
            "text/plain": [
              "  0%|          | 0/28881 [00:00<?, ?it/s]"
            ],
            "application/vnd.jupyter.widget-view+json": {
              "version_major": 2,
              "version_minor": 0,
              "model_id": "2ae3fa32b3f94900ae4d62216548157b"
            }
          },
          "metadata": {}
        },
        {
          "output_type": "stream",
          "name": "stdout",
          "text": [
            "Extracting ./MNIST/raw/train-labels-idx1-ubyte.gz to ./MNIST/raw\n",
            "\n",
            "Downloading http://yann.lecun.com/exdb/mnist/t10k-images-idx3-ubyte.gz\n",
            "Downloading http://yann.lecun.com/exdb/mnist/t10k-images-idx3-ubyte.gz to ./MNIST/raw/t10k-images-idx3-ubyte.gz\n"
          ]
        },
        {
          "output_type": "display_data",
          "data": {
            "text/plain": [
              "  0%|          | 0/1648877 [00:00<?, ?it/s]"
            ],
            "application/vnd.jupyter.widget-view+json": {
              "version_major": 2,
              "version_minor": 0,
              "model_id": "df2b1686a2d2452a80bcdca22a6e259a"
            }
          },
          "metadata": {}
        },
        {
          "output_type": "stream",
          "name": "stdout",
          "text": [
            "Extracting ./MNIST/raw/t10k-images-idx3-ubyte.gz to ./MNIST/raw\n",
            "\n",
            "Downloading http://yann.lecun.com/exdb/mnist/t10k-labels-idx1-ubyte.gz\n",
            "Downloading http://yann.lecun.com/exdb/mnist/t10k-labels-idx1-ubyte.gz to ./MNIST/raw/t10k-labels-idx1-ubyte.gz\n"
          ]
        },
        {
          "output_type": "display_data",
          "data": {
            "text/plain": [
              "  0%|          | 0/4542 [00:00<?, ?it/s]"
            ],
            "application/vnd.jupyter.widget-view+json": {
              "version_major": 2,
              "version_minor": 0,
              "model_id": "c00eb67a90184381a46d877ee1aceba1"
            }
          },
          "metadata": {}
        },
        {
          "output_type": "stream",
          "name": "stdout",
          "text": [
            "Extracting ./MNIST/raw/t10k-labels-idx1-ubyte.gz to ./MNIST/raw\n",
            "\n"
          ]
        }
      ]
    },
    {
      "cell_type": "code",
      "source": [
        "from avalanche.models import SimpleMLP\n",
        "from avalanche.training import Naive, CWRStar, Replay, GDumb, \\\n",
        "    Cumulative, LwF, GEM, AGEM, EWC, AR1\n",
        "from torch.optim import SGD\n",
        "from torch.nn import CrossEntropyLoss"
      ],
      "metadata": {
        "id": "XJ-36hv5prTk"
      },
      "execution_count": null,
      "outputs": []
    },
    {
      "cell_type": "code",
      "source": [
        "# strategy\n",
        "model = SimpleMLP(num_classes=10)\n",
        "cl_strategy = Naive(\n",
        "    model, SGD(model.parameters(), lr=0.001, momentum=0.9),\n",
        "    CrossEntropyLoss(), train_mb_size=100, train_epochs=4, eval_mb_size=100\n",
        ")"
      ],
      "metadata": {
        "id": "g1iQdR_ksg9-"
      },
      "execution_count": null,
      "outputs": []
    },
    {
      "cell_type": "markdown",
      "source": [
        "-----------"
      ],
      "metadata": {
        "id": "WYSV5gIms9xx"
      }
    },
    {
      "cell_type": "markdown",
      "source": [
        "**Create your own strategy**"
      ],
      "metadata": {
        "id": "0mbgZDBNs-lG"
      }
    },
    {
      "cell_type": "code",
      "source": [
        "from torch.utils.data import DataLoader"
      ],
      "metadata": {
        "id": "ilQLuUQ9sg7N"
      },
      "execution_count": null,
      "outputs": []
    },
    {
      "cell_type": "code",
      "source": [
        "class MyStrategy():\n",
        "    \"\"\"My Basic Strategy\"\"\"\n",
        "\n",
        "    def __init__(self, model, optimizer, criterion):\n",
        "        self.model = model\n",
        "        self.optimizer = optimizer\n",
        "        self.criterion = criterion\n",
        "\n",
        "    def train(self, experience):\n",
        "        # here you can implement your own training loop for each experience (i.e. \n",
        "        # batch or task).\n",
        "\n",
        "        train_dataset = experience.dataset\n",
        "        t = experience.task_label\n",
        "        train_data_loader = DataLoader(\n",
        "            train_dataset, num_workers=4, batch_size=128\n",
        "        )\n",
        "\n",
        "        for epoch in range(1):\n",
        "            for mb in train_data_loader:\n",
        "                # you magin here...\n",
        "                pass\n",
        "\n",
        "    def eval(self, experience):\n",
        "        # here you can implement your own eval loop for each experience (i.e. \n",
        "        # batch or task).\n",
        "\n",
        "        eval_dataset = experience.dataset\n",
        "        t = experience.task_label\n",
        "        eval_data_loader = DataLoader(\n",
        "            eval_dataset, num_workers=4, batch_size=128\n",
        "        )"
      ],
      "metadata": {
        "id": "K7Qny8Xqsg4O"
      },
      "execution_count": null,
      "outputs": []
    },
    {
      "cell_type": "code",
      "source": [
        "from avalanche.models import SimpleMLP\n",
        "from avalanche.benchmarks import SplitMNIST"
      ],
      "metadata": {
        "id": "aLghVb9-sg1T"
      },
      "execution_count": null,
      "outputs": []
    },
    {
      "cell_type": "code",
      "source": [
        "# Benchmark creation\n",
        "benchmark = SplitMNIST(n_experiences=5)\n",
        "\n",
        "# Model Creation\n",
        "model = SimpleMLP(num_classes=benchmark.n_classes)\n",
        "\n",
        "# Create the Strategy Instance (MyStrategy)\n",
        "cl_strategy = MyStrategy(\n",
        "    model, SGD(model.parameters(), lr=0.001, momentum=0.9),\n",
        "    CrossEntropyLoss())\n",
        "\n",
        "# Training Loop\n",
        "print('Starting experiment...')\n",
        "\n",
        "for exp_id, experience in enumerate(benchmark.train_stream):\n",
        "    print(\"Start of experience \", experience.current_experience)\n",
        "\n",
        "    cl_strategy.train(experience)\n",
        "    print('Training completed')\n",
        "\n",
        "    print('Computing accuracy on the current test set')\n",
        "    cl_strategy.eval(benchmark.test_stream[exp_id])"
      ],
      "metadata": {
        "colab": {
          "base_uri": "https://localhost:8080/"
        },
        "id": "OpZ1W7nEsgyh",
        "outputId": "11446d8c-8a2c-4810-bf64-d044a68e3e52"
      },
      "execution_count": null,
      "outputs": [
        {
          "output_type": "stream",
          "name": "stdout",
          "text": [
            "Starting experiment...\n",
            "Start of experience  0\n"
          ]
        },
        {
          "output_type": "stream",
          "name": "stderr",
          "text": [
            "/usr/local/lib/python3.7/dist-packages/torch/utils/data/dataloader.py:566: UserWarning: This DataLoader will create 4 worker processes in total. Our suggested max number of worker in current system is 2, which is smaller than what this DataLoader is going to create. Please be aware that excessive worker creation might get DataLoader running slow or even freeze, lower the worker number to avoid potential slowness/freeze if necessary.\n",
            "  cpuset_checked))\n"
          ]
        },
        {
          "output_type": "stream",
          "name": "stdout",
          "text": [
            "Training completed\n",
            "Computing accuracy on the current test set\n",
            "Start of experience  1\n",
            "Training completed\n",
            "Computing accuracy on the current test set\n",
            "Start of experience  2\n",
            "Training completed\n",
            "Computing accuracy on the current test set\n",
            "Start of experience  3\n",
            "Training completed\n",
            "Computing accuracy on the current test set\n",
            "Start of experience  4\n",
            "Training completed\n",
            "Computing accuracy on the current test set\n"
          ]
        }
      ]
    },
    {
      "cell_type": "markdown",
      "source": [
        "--------"
      ],
      "metadata": {
        "id": "PxMsyg0atWf1"
      }
    },
    {
      "cell_type": "markdown",
      "source": [
        "**Evaluation**"
      ],
      "metadata": {
        "id": "dRWPvOeBtXQt"
      }
    },
    {
      "cell_type": "code",
      "source": [
        "# utility functions to create plugin metrics\n",
        "from avalanche.evaluation.metrics import accuracy_metrics, loss_metrics, forgetting_metrics\n",
        "from avalanche.logging import InteractiveLogger, TensorboardLogger\n",
        "from avalanche.training.plugins import EvaluationPlugin"
      ],
      "metadata": {
        "id": "jgyFGc2Ksgvd"
      },
      "execution_count": null,
      "outputs": []
    },
    {
      "cell_type": "code",
      "source": [
        "eval_plugin = EvaluationPlugin(\n",
        "    # accuracy after each training epoch\n",
        "    # and after each evaluation experience\n",
        "    accuracy_metrics(epoch=True, experience=True),\n",
        "    # loss after each training minibatch and each\n",
        "    # evaluation stream\n",
        "    loss_metrics(minibatch=True, stream=True),\n",
        "    # catastrophic forgetting after each evaluation\n",
        "    # experience\n",
        "    forgetting_metrics(experience=True, stream=True), \n",
        "    # add as many metrics as you like\n",
        "    loggers=[InteractiveLogger(), TensorboardLogger()])\n",
        "\n",
        "# pass the evaluation plugin instance to the strategy\n",
        "# strategy = EWC(..., evaluator=eval_plugin)"
      ],
      "metadata": {
        "colab": {
          "base_uri": "https://localhost:8080/"
        },
        "id": "T7uhe5Mjsgsc",
        "outputId": "6ecc8d31-bdb5-4245-a050-c53789b827ac"
      },
      "execution_count": null,
      "outputs": [
        {
          "output_type": "stream",
          "name": "stderr",
          "text": [
            "/usr/local/lib/python3.7/dist-packages/avalanche/training/plugins/evaluation.py:82: UserWarning: No benchmark provided to the evaluation plugin. Metrics may be computed on inconsistent portion of streams, use at your own risk.\n",
            "  \"No benchmark provided to the evaluation plugin. \"\n"
          ]
        }
      ]
    },
    {
      "cell_type": "markdown",
      "source": [
        "-----------"
      ],
      "metadata": {
        "id": "A-izdL8nto2Z"
      }
    },
    {
      "cell_type": "markdown",
      "source": [
        "**Example**</br>\n",
        "Ref: https://avalanche.continualai.org/getting-started/learn-avalanche-in-5-minutes#benchmarks-generators"
      ],
      "metadata": {
        "id": "BNJ74sWAtpz6"
      }
    },
    {
      "cell_type": "code",
      "source": [
        "from avalanche.benchmarks.classic import SplitMNIST\n",
        "from avalanche.evaluation.metrics import forgetting_metrics, accuracy_metrics,\\\n",
        "    loss_metrics, timing_metrics, cpu_usage_metrics, StreamConfusionMatrix,\\\n",
        "    disk_usage_metrics, gpu_usage_metrics\n",
        "from avalanche.models import SimpleMLP\n",
        "from avalanche.logging import InteractiveLogger, TextLogger, TensorboardLogger\n",
        "from avalanche.training.plugins import EvaluationPlugin\n",
        "from avalanche.training import Naive\n",
        "\n",
        "from torch.optim import SGD\n",
        "from torch.nn import CrossEntropyLoss\n",
        "\n",
        "benchmark = SplitMNIST(n_experiences=5)\n",
        "\n",
        "# MODEL CREATION\n",
        "model = SimpleMLP(num_classes=benchmark.n_classes)\n",
        "\n",
        "# DEFINE THE EVALUATION PLUGIN and LOGGERS\n",
        "# The evaluation plugin manages the metrics computation.\n",
        "# It takes as argument a list of metrics, collectes their results and returns \n",
        "# them to the strategy it is attached to.\n",
        "\n",
        "# log to Tensorboard\n",
        "tb_logger = TensorboardLogger()\n",
        "\n",
        "# log to text file\n",
        "text_logger = TextLogger(open('log.txt', 'a'))\n",
        "\n",
        "# print to stdout\n",
        "interactive_logger = InteractiveLogger()\n",
        "\n",
        "eval_plugin = EvaluationPlugin(\n",
        "    accuracy_metrics(minibatch=True, epoch=True, experience=True, stream=True),\n",
        "    loss_metrics(minibatch=True, epoch=True, experience=True, stream=True),\n",
        "    timing_metrics(epoch=True),\n",
        "    cpu_usage_metrics(experience=True),\n",
        "    forgetting_metrics(experience=True, stream=True),\n",
        "    StreamConfusionMatrix(num_classes=benchmark.n_classes, save_image=False),\n",
        "    disk_usage_metrics(minibatch=True, epoch=True, experience=True, stream=True),\n",
        "    loggers=[interactive_logger, text_logger, tb_logger],\n",
        "    benchmark=benchmark\n",
        ")\n",
        "\n",
        "# CREATE THE STRATEGY INSTANCE (NAIVE)\n",
        "cl_strategy = Naive(\n",
        "    model, SGD(model.parameters(), lr=0.001, momentum=0.9),\n",
        "    CrossEntropyLoss(), train_mb_size=500, train_epochs=1, eval_mb_size=100,\n",
        "    evaluator=eval_plugin)\n",
        "\n",
        "# TRAINING LOOP\n",
        "print('Starting experiment...')\n",
        "results = []\n",
        "for experience in benchmark.train_stream:\n",
        "    print(\"Start of experience: \", experience.current_experience)\n",
        "    print(\"Current Classes: \", experience.classes_in_this_experience)\n",
        "\n",
        "    # train returns a dictionary which contains all the metric values\n",
        "    res = cl_strategy.train(experience, num_workers=4)\n",
        "    print('Training completed')\n",
        "\n",
        "    print('Computing accuracy on the whole test set')\n",
        "    # eval also returns a dictionary which contains all the metric values\n",
        "    results.append(cl_strategy.eval(benchmark.test_stream, num_workers=4))"
      ],
      "metadata": {
        "colab": {
          "base_uri": "https://localhost:8080/"
        },
        "id": "UJsq3FUTsgpo",
        "outputId": "ef41e0f6-f323-48ec-958a-e37efaf6883d"
      },
      "execution_count": null,
      "outputs": [
        {
          "output_type": "stream",
          "name": "stdout",
          "text": [
            "Starting experiment...\n",
            "Start of experience:  0\n",
            "Current Classes:  [8, 7]\n",
            "-- >> Start of training phase << --\n"
          ]
        },
        {
          "output_type": "stream",
          "name": "stderr",
          "text": [
            "/usr/local/lib/python3.7/dist-packages/torch/utils/data/dataloader.py:566: UserWarning: This DataLoader will create 4 worker processes in total. Our suggested max number of worker in current system is 2, which is smaller than what this DataLoader is going to create. Please be aware that excessive worker creation might get DataLoader running slow or even freeze, lower the worker number to avoid potential slowness/freeze if necessary.\n",
            "  cpuset_checked))\n"
          ]
        },
        {
          "output_type": "stream",
          "name": "stdout",
          "text": [
            "100%|██████████| 25/25 [00:04<00:00,  5.20it/s]\n",
            "Epoch 0 ended.\n",
            "\tDiskUsage_Epoch/train_phase/train_stream/Task000 = 120530.6543\n",
            "\tDiskUsage_MB/train_phase/train_stream/Task000 = 120530.6543\n",
            "\tLoss_Epoch/train_phase/train_stream/Task000 = 1.2330\n",
            "\tLoss_MB/train_phase/train_stream/Task000 = 0.3037\n",
            "\tTime_Epoch/train_phase/train_stream/Task000 = 4.6564\n",
            "\tTop1_Acc_Epoch/train_phase/train_stream/Task000 = 0.6793\n",
            "\tTop1_Acc_MB/train_phase/train_stream/Task000 = 0.9569\n",
            "-- >> End of training phase << --\n",
            "Training completed\n",
            "Computing accuracy on the whole test set\n",
            "-- >> Start of eval phase << --\n",
            "-- Starting eval on experience 0 (Task 0) from test stream --\n",
            "100%|██████████| 21/21 [00:01<00:00, 11.32it/s]\n",
            "> Eval on experience 0 (Task 0) from test stream ended.\n",
            "\tCPUUsage_Exp/eval_phase/test_stream/Task000/Exp000 = 27.5165\n",
            "\tDiskUsage_Exp/eval_phase/test_stream/Task000/Exp000 = 120531.1816\n",
            "\tLoss_Exp/eval_phase/test_stream/Task000/Exp000 = 0.2961\n",
            "\tTop1_Acc_Exp/eval_phase/test_stream/Task000/Exp000 = 0.9500\n",
            "-- Starting eval on experience 1 (Task 0) from test stream --\n",
            "100%|██████████| 21/21 [00:01<00:00, 12.92it/s]\n",
            "> Eval on experience 1 (Task 0) from test stream ended.\n",
            "\tCPUUsage_Exp/eval_phase/test_stream/Task000/Exp001 = 30.8092\n",
            "\tDiskUsage_Exp/eval_phase/test_stream/Task000/Exp001 = 120531.5381\n",
            "\tLoss_Exp/eval_phase/test_stream/Task000/Exp001 = 5.2298\n",
            "\tTop1_Acc_Exp/eval_phase/test_stream/Task000/Exp001 = 0.0000\n",
            "-- Starting eval on experience 2 (Task 0) from test stream --\n",
            "100%|██████████| 20/20 [00:01<00:00, 17.37it/s]\n",
            "> Eval on experience 2 (Task 0) from test stream ended.\n",
            "\tCPUUsage_Exp/eval_phase/test_stream/Task000/Exp002 = 40.9584\n",
            "\tDiskUsage_Exp/eval_phase/test_stream/Task000/Exp002 = 120531.8945\n",
            "\tLoss_Exp/eval_phase/test_stream/Task000/Exp002 = 4.8337\n",
            "\tTop1_Acc_Exp/eval_phase/test_stream/Task000/Exp002 = 0.0000\n",
            "-- Starting eval on experience 3 (Task 0) from test stream --\n",
            "100%|██████████| 22/22 [00:01<00:00, 21.61it/s]\n",
            "> Eval on experience 3 (Task 0) from test stream ended.\n",
            "\tCPUUsage_Exp/eval_phase/test_stream/Task000/Exp003 = 44.6314\n",
            "\tDiskUsage_Exp/eval_phase/test_stream/Task000/Exp003 = 120532.2510\n",
            "\tLoss_Exp/eval_phase/test_stream/Task000/Exp003 = 4.2081\n",
            "\tTop1_Acc_Exp/eval_phase/test_stream/Task000/Exp003 = 0.0000\n",
            "-- Starting eval on experience 4 (Task 0) from test stream --\n",
            "100%|██████████| 19/19 [00:01<00:00, 14.53it/s]\n",
            "> Eval on experience 4 (Task 0) from test stream ended.\n",
            "\tCPUUsage_Exp/eval_phase/test_stream/Task000/Exp004 = 33.9985\n",
            "\tDiskUsage_Exp/eval_phase/test_stream/Task000/Exp004 = 120532.6074\n",
            "\tLoss_Exp/eval_phase/test_stream/Task000/Exp004 = 4.9181\n",
            "\tTop1_Acc_Exp/eval_phase/test_stream/Task000/Exp004 = 0.0000\n",
            "-- >> End of eval phase << --\n",
            "\tConfusionMatrix_Stream/eval_phase/test_stream = \n",
            "tensor([[  0,   0,   0,   0,   0,   0,   0, 173, 807,   0],\n",
            "        [  0,   0,   0,   0,   0,   0,   0, 216, 919,   0],\n",
            "        [  0,   0,   0,   0,   0,   0,   0, 126, 906,   0],\n",
            "        [  0,   0,   0,   0,   0,   0,   0,  64, 946,   0],\n",
            "        [  0,   0,   0,   0,   0,   0,   0, 697, 285,   0],\n",
            "        [  0,   0,   0,   0,   0,   0,   0, 167, 725,   0],\n",
            "        [  0,   0,   0,   0,   0,   0,   0, 248, 710,   0],\n",
            "        [  0,   0,   0,   0,   0,   0,   0, 953,  75,   0],\n",
            "        [  0,   0,   0,   0,   0,   0,   0,  25, 949,   0],\n",
            "        [  0,   0,   0,   0,   0,   0,   0, 840, 169,   0]])\n",
            "\tDiskUsage_Stream/eval_phase/test_stream/Task000 = 120532.6074\n",
            "\tLoss_Stream/eval_phase/test_stream/Task000 = 3.8886\n",
            "\tStreamForgetting/eval_phase/test_stream = 0.0000\n",
            "\tTop1_Acc_Stream/eval_phase/test_stream/Task000 = 0.1902\n",
            "Start of experience:  1\n",
            "Current Classes:  [9, 3]\n",
            "-- >> Start of training phase << --\n",
            "100%|██████████| 25/25 [00:03<00:00,  6.60it/s]\n",
            "Epoch 0 ended.\n",
            "\tDiskUsage_Epoch/train_phase/train_stream/Task000 = 120545.8867\n",
            "\tDiskUsage_MB/train_phase/train_stream/Task000 = 120545.8867\n",
            "\tLoss_Epoch/train_phase/train_stream/Task000 = 1.9522\n",
            "\tLoss_MB/train_phase/train_stream/Task000 = 0.3477\n",
            "\tTime_Epoch/train_phase/train_stream/Task000 = 3.7266\n",
            "\tTop1_Acc_Epoch/train_phase/train_stream/Task000 = 0.4932\n",
            "\tTop1_Acc_MB/train_phase/train_stream/Task000 = 0.9750\n",
            "-- >> End of training phase << --\n",
            "Training completed\n",
            "Computing accuracy on the whole test set\n",
            "-- >> Start of eval phase << --\n",
            "-- Starting eval on experience 0 (Task 0) from test stream --\n",
            "100%|██████████| 21/21 [00:01<00:00, 16.76it/s]\n",
            "> Eval on experience 0 (Task 0) from test stream ended.\n",
            "\tCPUUsage_Exp/eval_phase/test_stream/Task000/Exp000 = 37.8131\n",
            "\tDiskUsage_Exp/eval_phase/test_stream/Task000/Exp000 = 120550.4141\n",
            "\tExperienceForgetting/eval_phase/test_stream/Task000/Exp000 = 0.9500\n",
            "\tLoss_Exp/eval_phase/test_stream/Task000/Exp000 = 3.8234\n",
            "\tTop1_Acc_Exp/eval_phase/test_stream/Task000/Exp000 = 0.0000\n",
            "-- Starting eval on experience 1 (Task 0) from test stream --\n",
            "100%|██████████| 21/21 [00:01<00:00, 17.35it/s]\n",
            "> Eval on experience 1 (Task 0) from test stream ended.\n",
            "\tCPUUsage_Exp/eval_phase/test_stream/Task000/Exp001 = 38.8832\n",
            "\tDiskUsage_Exp/eval_phase/test_stream/Task000/Exp001 = 120550.8379\n",
            "\tLoss_Exp/eval_phase/test_stream/Task000/Exp001 = 0.2918\n",
            "\tTop1_Acc_Exp/eval_phase/test_stream/Task000/Exp001 = 0.9624\n",
            "-- Starting eval on experience 2 (Task 0) from test stream --\n",
            "100%|██████████| 20/20 [00:01<00:00, 15.04it/s]\n",
            "> Eval on experience 2 (Task 0) from test stream ended.\n",
            "\tCPUUsage_Exp/eval_phase/test_stream/Task000/Exp002 = 35.0428\n",
            "\tDiskUsage_Exp/eval_phase/test_stream/Task000/Exp002 = 120551.1943\n",
            "\tLoss_Exp/eval_phase/test_stream/Task000/Exp002 = 4.6097\n",
            "\tTop1_Acc_Exp/eval_phase/test_stream/Task000/Exp002 = 0.0000\n",
            "-- Starting eval on experience 3 (Task 0) from test stream --\n",
            "100%|██████████| 22/22 [00:01<00:00, 16.24it/s]\n",
            "> Eval on experience 3 (Task 0) from test stream ended.\n",
            "\tCPUUsage_Exp/eval_phase/test_stream/Task000/Exp003 = 38.3789\n",
            "\tDiskUsage_Exp/eval_phase/test_stream/Task000/Exp003 = 120551.5508\n",
            "\tLoss_Exp/eval_phase/test_stream/Task000/Exp003 = 4.1715\n",
            "\tTop1_Acc_Exp/eval_phase/test_stream/Task000/Exp003 = 0.0000\n",
            "-- Starting eval on experience 4 (Task 0) from test stream --\n",
            "100%|██████████| 19/19 [00:01<00:00, 16.80it/s]\n",
            "> Eval on experience 4 (Task 0) from test stream ended.\n",
            "\tCPUUsage_Exp/eval_phase/test_stream/Task000/Exp004 = 40.2517\n",
            "\tDiskUsage_Exp/eval_phase/test_stream/Task000/Exp004 = 120551.9072\n",
            "\tLoss_Exp/eval_phase/test_stream/Task000/Exp004 = 4.7919\n",
            "\tTop1_Acc_Exp/eval_phase/test_stream/Task000/Exp004 = 0.0000\n",
            "-- >> End of eval phase << --\n",
            "\tConfusionMatrix_Stream/eval_phase/test_stream = \n",
            "tensor([[  0,   0,   0, 808,   0,   0,   0,   0,   0, 172],\n",
            "        [  0,   0,   0, 686,   0,   0,   0,   0,   0, 449],\n",
            "        [  0,   0,   0, 754,   0,   0,   0,   0,   0, 278],\n",
            "        [  0,   0,   0, 963,   0,   0,   0,   0,   0,  47],\n",
            "        [  0,   0,   0,  24,   0,   0,   0,   0,   0, 958],\n",
            "        [  0,   0,   0, 592,   0,   0,   0,   0,   0, 300],\n",
            "        [  0,   0,   0, 239,   0,   0,   0,   0,   0, 719],\n",
            "        [  0,   0,   0,  48,   0,   0,   0,   0,   0, 980],\n",
            "        [  0,   0,   0, 651,   0,   0,   0,   0,   0, 323],\n",
            "        [  0,   0,   0,  29,   0,   0,   0,   0,   0, 980]])\n",
            "\tDiskUsage_Stream/eval_phase/test_stream/Task000 = 120551.9072\n",
            "\tLoss_Stream/eval_phase/test_stream/Task000 = 3.5218\n",
            "\tStreamForgetting/eval_phase/test_stream = 0.9500\n",
            "\tTop1_Acc_Stream/eval_phase/test_stream/Task000 = 0.1943\n",
            "Start of experience:  2\n",
            "Current Classes:  [2, 6]\n",
            "-- >> Start of training phase << --\n",
            "100%|██████████| 24/24 [00:04<00:00,  5.09it/s]\n",
            "Epoch 0 ended.\n",
            "\tDiskUsage_Epoch/train_phase/train_stream/Task000 = 120565.1865\n",
            "\tDiskUsage_MB/train_phase/train_stream/Task000 = 120565.1865\n",
            "\tLoss_Epoch/train_phase/train_stream/Task000 = 2.0667\n",
            "\tLoss_MB/train_phase/train_stream/Task000 = 0.6577\n",
            "\tTime_Epoch/train_phase/train_stream/Task000 = 4.6337\n",
            "\tTop1_Acc_Epoch/train_phase/train_stream/Task000 = 0.4282\n",
            "\tTop1_Acc_MB/train_phase/train_stream/Task000 = 0.8777\n",
            "-- >> End of training phase << --\n",
            "Training completed\n",
            "Computing accuracy on the whole test set\n",
            "-- >> Start of eval phase << --\n",
            "-- Starting eval on experience 0 (Task 0) from test stream --\n",
            "100%|██████████| 21/21 [00:01<00:00, 15.89it/s]\n",
            "> Eval on experience 0 (Task 0) from test stream ended.\n",
            "\tCPUUsage_Exp/eval_phase/test_stream/Task000/Exp000 = 38.6335\n",
            "\tDiskUsage_Exp/eval_phase/test_stream/Task000/Exp000 = 120565.7139\n",
            "\tExperienceForgetting/eval_phase/test_stream/Task000/Exp000 = 0.9500\n",
            "\tLoss_Exp/eval_phase/test_stream/Task000/Exp000 = 2.8360\n",
            "\tTop1_Acc_Exp/eval_phase/test_stream/Task000/Exp000 = 0.0000\n",
            "-- Starting eval on experience 1 (Task 0) from test stream --\n",
            "100%|██████████| 21/21 [00:01<00:00, 16.96it/s]\n",
            "> Eval on experience 1 (Task 0) from test stream ended.\n",
            "\tCPUUsage_Exp/eval_phase/test_stream/Task000/Exp001 = 40.4198\n",
            "\tDiskUsage_Exp/eval_phase/test_stream/Task000/Exp001 = 120566.1377\n",
            "\tExperienceForgetting/eval_phase/test_stream/Task000/Exp001 = 0.9044\n",
            "\tLoss_Exp/eval_phase/test_stream/Task000/Exp001 = 1.9505\n",
            "\tTop1_Acc_Exp/eval_phase/test_stream/Task000/Exp001 = 0.0579\n",
            "-- Starting eval on experience 2 (Task 0) from test stream --\n",
            "100%|██████████| 20/20 [00:00<00:00, 21.73it/s]\n",
            "> Eval on experience 2 (Task 0) from test stream ended.\n",
            "\tCPUUsage_Exp/eval_phase/test_stream/Task000/Exp002 = 47.7273\n",
            "\tDiskUsage_Exp/eval_phase/test_stream/Task000/Exp002 = 120566.5615\n",
            "\tLoss_Exp/eval_phase/test_stream/Task000/Exp002 = 0.5450\n",
            "\tTop1_Acc_Exp/eval_phase/test_stream/Task000/Exp002 = 0.9347\n",
            "-- Starting eval on experience 3 (Task 0) from test stream --\n",
            "100%|██████████| 22/22 [00:00<00:00, 22.90it/s]\n",
            "> Eval on experience 3 (Task 0) from test stream ended.\n",
            "\tCPUUsage_Exp/eval_phase/test_stream/Task000/Exp003 = 47.5024\n",
            "\tDiskUsage_Exp/eval_phase/test_stream/Task000/Exp003 = 120566.9180\n",
            "\tLoss_Exp/eval_phase/test_stream/Task000/Exp003 = 3.4612\n",
            "\tTop1_Acc_Exp/eval_phase/test_stream/Task000/Exp003 = 0.0000\n",
            "-- Starting eval on experience 4 (Task 0) from test stream --\n",
            "100%|██████████| 19/19 [00:00<00:00, 22.81it/s]\n",
            "> Eval on experience 4 (Task 0) from test stream ended.\n",
            "\tCPUUsage_Exp/eval_phase/test_stream/Task000/Exp004 = 47.5481\n",
            "\tDiskUsage_Exp/eval_phase/test_stream/Task000/Exp004 = 120567.2744\n",
            "\tLoss_Exp/eval_phase/test_stream/Task000/Exp004 = 3.7060\n",
            "\tTop1_Acc_Exp/eval_phase/test_stream/Task000/Exp004 = 0.0000\n",
            "-- >> End of eval phase << --\n",
            "\tConfusionMatrix_Stream/eval_phase/test_stream = \n",
            "tensor([[  0,   0, 487,   2,   0,   0, 491,   0,   0,   0],\n",
            "        [  0,   0, 458,   0,   0,   0, 677,   0,   0,   0],\n",
            "        [  0,   0, 920,   0,   0,   0, 112,   0,   0,   0],\n",
            "        [  0,   0, 673,  51,   0,   0, 285,   0,   0,   1],\n",
            "        [  0,   0, 219,   0,   0,   0, 758,   0,   0,   5],\n",
            "        [  0,   0, 295,  22,   0,   0, 550,   0,   0,  25],\n",
            "        [  0,   0,  18,   0,   0,   0, 940,   0,   0,   0],\n",
            "        [  0,   0, 526,   0,   0,   0, 199,   0,   0, 303],\n",
            "        [  0,   0, 663,   0,   0,   0, 311,   0,   0,   0],\n",
            "        [  0,   0, 186,   0,   0,   0, 757,   0,   0,  66]])\n",
            "\tDiskUsage_Stream/eval_phase/test_stream/Task000 = 120567.2744\n",
            "\tLoss_Stream/eval_phase/test_stream/Task000 = 2.4965\n",
            "\tStreamForgetting/eval_phase/test_stream = 0.9272\n",
            "\tTop1_Acc_Stream/eval_phase/test_stream/Task000 = 0.1977\n",
            "Start of experience:  3\n",
            "Current Classes:  [1, 4]\n",
            "-- >> Start of training phase << --\n",
            "100%|██████████| 26/26 [00:03<00:00,  7.67it/s]\n",
            "Epoch 0 ended.\n",
            "\tDiskUsage_Epoch/train_phase/train_stream/Task000 = 120584.5537\n",
            "\tDiskUsage_MB/train_phase/train_stream/Task000 = 120584.5537\n",
            "\tLoss_Epoch/train_phase/train_stream/Task000 = 1.9570\n",
            "\tLoss_MB/train_phase/train_stream/Task000 = 0.6127\n",
            "\tTime_Epoch/train_phase/train_stream/Task000 = 3.3388\n",
            "\tTop1_Acc_Epoch/train_phase/train_stream/Task000 = 0.4410\n",
            "\tTop1_Acc_MB/train_phase/train_stream/Task000 = 0.9286\n",
            "-- >> End of training phase << --\n",
            "Training completed\n",
            "Computing accuracy on the whole test set\n",
            "-- >> Start of eval phase << --\n",
            "-- Starting eval on experience 0 (Task 0) from test stream --\n",
            "100%|██████████| 21/21 [00:00<00:00, 23.15it/s]\n",
            "> Eval on experience 0 (Task 0) from test stream ended.\n",
            "\tCPUUsage_Exp/eval_phase/test_stream/Task000/Exp000 = 50.4424\n",
            "\tDiskUsage_Exp/eval_phase/test_stream/Task000/Exp000 = 120585.0811\n",
            "\tExperienceForgetting/eval_phase/test_stream/Task000/Exp000 = 0.9500\n",
            "\tLoss_Exp/eval_phase/test_stream/Task000/Exp000 = 2.7594\n",
            "\tTop1_Acc_Exp/eval_phase/test_stream/Task000/Exp000 = 0.0000\n",
            "-- Starting eval on experience 1 (Task 0) from test stream --\n",
            "100%|██████████| 21/21 [00:00<00:00, 22.56it/s]\n",
            "> Eval on experience 1 (Task 0) from test stream ended.\n",
            "\tCPUUsage_Exp/eval_phase/test_stream/Task000/Exp001 = 48.2267\n",
            "\tDiskUsage_Exp/eval_phase/test_stream/Task000/Exp001 = 120585.5049\n",
            "\tExperienceForgetting/eval_phase/test_stream/Task000/Exp001 = 0.9252\n",
            "\tLoss_Exp/eval_phase/test_stream/Task000/Exp001 = 2.3171\n",
            "\tTop1_Acc_Exp/eval_phase/test_stream/Task000/Exp001 = 0.0371\n",
            "-- Starting eval on experience 2 (Task 0) from test stream --\n",
            "100%|██████████| 20/20 [00:00<00:00, 22.57it/s]\n",
            "> Eval on experience 2 (Task 0) from test stream ended.\n",
            "\tCPUUsage_Exp/eval_phase/test_stream/Task000/Exp002 = 47.4434\n",
            "\tDiskUsage_Exp/eval_phase/test_stream/Task000/Exp002 = 120585.9287\n",
            "\tExperienceForgetting/eval_phase/test_stream/Task000/Exp002 = 0.8729\n",
            "\tLoss_Exp/eval_phase/test_stream/Task000/Exp002 = 1.7633\n",
            "\tTop1_Acc_Exp/eval_phase/test_stream/Task000/Exp002 = 0.0618\n",
            "-- Starting eval on experience 3 (Task 0) from test stream --\n",
            "100%|██████████| 22/22 [00:00<00:00, 22.91it/s]\n",
            "> Eval on experience 3 (Task 0) from test stream ended.\n",
            "\tCPUUsage_Exp/eval_phase/test_stream/Task000/Exp003 = 48.4440\n",
            "\tDiskUsage_Exp/eval_phase/test_stream/Task000/Exp003 = 120586.3525\n",
            "\tLoss_Exp/eval_phase/test_stream/Task000/Exp003 = 0.4932\n",
            "\tTop1_Acc_Exp/eval_phase/test_stream/Task000/Exp003 = 0.9660\n",
            "-- Starting eval on experience 4 (Task 0) from test stream --\n",
            "100%|██████████| 19/19 [00:00<00:00, 22.94it/s]\n",
            "> Eval on experience 4 (Task 0) from test stream ended.\n",
            "\tCPUUsage_Exp/eval_phase/test_stream/Task000/Exp004 = 51.0376\n",
            "\tDiskUsage_Exp/eval_phase/test_stream/Task000/Exp004 = 120586.7090\n",
            "\tLoss_Exp/eval_phase/test_stream/Task000/Exp004 = 3.3355\n",
            "\tTop1_Acc_Exp/eval_phase/test_stream/Task000/Exp004 = 0.0000\n",
            "-- >> End of eval phase << --\n",
            "\tConfusionMatrix_Stream/eval_phase/test_stream = \n",
            "tensor([[   0,   14,  120,   11,  827,    0,    8,    0,    0,    0],\n",
            "        [   0, 1135,    0,    0,    0,    0,    0,    0,    0,    0],\n",
            "        [   0,  493,   85,    0,  453,    0,    1,    0,    0,    0],\n",
            "        [   0,  643,   45,   75,  243,    0,    4,    0,    0,    0],\n",
            "        [   0,   72,    0,    0,  910,    0,    0,    0,    0,    0],\n",
            "        [   0,  344,   13,   35,  482,    0,   18,    0,    0,    0],\n",
            "        [   0,  303,    0,    0,  617,    0,   38,    0,    0,    0],\n",
            "        [   0,  261,    0,    0,  767,    0,    0,    0,    0,    0],\n",
            "        [   0,  563,    2,    0,  408,    0,    1,    0,    0,    0],\n",
            "        [   0,  109,    1,    0,  899,    0,    0,    0,    0,    0]])\n",
            "\tDiskUsage_Stream/eval_phase/test_stream/Task000 = 120586.7090\n",
            "\tLoss_Stream/eval_phase/test_stream/Task000 = 2.1000\n",
            "\tStreamForgetting/eval_phase/test_stream = 0.9160\n",
            "\tTop1_Acc_Stream/eval_phase/test_stream/Task000 = 0.2243\n",
            "Start of experience:  4\n",
            "Current Classes:  [0, 5]\n",
            "-- >> Start of training phase << --\n",
            "100%|██████████| 23/23 [00:03<00:00,  7.30it/s]\n",
            "Epoch 0 ended.\n",
            "\tDiskUsage_Epoch/train_phase/train_stream/Task000 = 120600.0859\n",
            "\tDiskUsage_MB/train_phase/train_stream/Task000 = 120600.0859\n",
            "\tLoss_Epoch/train_phase/train_stream/Task000 = 2.0956\n",
            "\tLoss_MB/train_phase/train_stream/Task000 = 0.9100\n",
            "\tTime_Epoch/train_phase/train_stream/Task000 = 3.0968\n",
            "\tTop1_Acc_Epoch/train_phase/train_stream/Task000 = 0.2987\n",
            "\tTop1_Acc_MB/train_phase/train_stream/Task000 = 0.6919\n",
            "-- >> End of training phase << --\n",
            "Training completed\n",
            "Computing accuracy on the whole test set\n",
            "-- >> Start of eval phase << --\n",
            "-- Starting eval on experience 0 (Task 0) from test stream --\n",
            "100%|██████████| 21/21 [00:00<00:00, 22.29it/s]\n",
            "> Eval on experience 0 (Task 0) from test stream ended.\n",
            "\tCPUUsage_Exp/eval_phase/test_stream/Task000/Exp000 = 49.6313\n",
            "\tDiskUsage_Exp/eval_phase/test_stream/Task000/Exp000 = 120600.6133\n",
            "\tExperienceForgetting/eval_phase/test_stream/Task000/Exp000 = 0.9401\n",
            "\tLoss_Exp/eval_phase/test_stream/Task000/Exp000 = 2.7556\n",
            "\tTop1_Acc_Exp/eval_phase/test_stream/Task000/Exp000 = 0.0100\n",
            "-- Starting eval on experience 1 (Task 0) from test stream --\n",
            "100%|██████████| 21/21 [00:00<00:00, 22.96it/s]\n",
            "> Eval on experience 1 (Task 0) from test stream ended.\n",
            "\tCPUUsage_Exp/eval_phase/test_stream/Task000/Exp001 = 48.3235\n",
            "\tDiskUsage_Exp/eval_phase/test_stream/Task000/Exp001 = 120601.0371\n",
            "\tExperienceForgetting/eval_phase/test_stream/Task000/Exp001 = 0.9614\n",
            "\tLoss_Exp/eval_phase/test_stream/Task000/Exp001 = 2.5415\n",
            "\tTop1_Acc_Exp/eval_phase/test_stream/Task000/Exp001 = 0.0010\n",
            "-- Starting eval on experience 2 (Task 0) from test stream --\n",
            "100%|██████████| 20/20 [00:00<00:00, 22.48it/s]\n",
            "> Eval on experience 2 (Task 0) from test stream ended.\n",
            "\tCPUUsage_Exp/eval_phase/test_stream/Task000/Exp002 = 49.5828\n",
            "\tDiskUsage_Exp/eval_phase/test_stream/Task000/Exp002 = 120601.4609\n",
            "\tExperienceForgetting/eval_phase/test_stream/Task000/Exp002 = 0.9332\n",
            "\tLoss_Exp/eval_phase/test_stream/Task000/Exp002 = 2.2838\n",
            "\tTop1_Acc_Exp/eval_phase/test_stream/Task000/Exp002 = 0.0015\n",
            "-- Starting eval on experience 3 (Task 0) from test stream --\n",
            "100%|██████████| 22/22 [00:00<00:00, 22.65it/s]\n",
            "> Eval on experience 3 (Task 0) from test stream ended.\n",
            "\tCPUUsage_Exp/eval_phase/test_stream/Task000/Exp003 = 49.0237\n",
            "\tDiskUsage_Exp/eval_phase/test_stream/Task000/Exp003 = 120605.8848\n",
            "\tExperienceForgetting/eval_phase/test_stream/Task000/Exp003 = 0.1469\n",
            "\tLoss_Exp/eval_phase/test_stream/Task000/Exp003 = 1.0119\n",
            "\tTop1_Acc_Exp/eval_phase/test_stream/Task000/Exp003 = 0.8191\n",
            "-- Starting eval on experience 4 (Task 0) from test stream --\n",
            "100%|██████████| 19/19 [00:00<00:00, 22.09it/s]\n",
            "> Eval on experience 4 (Task 0) from test stream ended.\n",
            "\tCPUUsage_Exp/eval_phase/test_stream/Task000/Exp004 = 47.4294\n",
            "\tDiskUsage_Exp/eval_phase/test_stream/Task000/Exp004 = 120606.3086\n",
            "\tLoss_Exp/eval_phase/test_stream/Task000/Exp004 = 0.8615\n",
            "\tTop1_Acc_Exp/eval_phase/test_stream/Task000/Exp004 = 0.6902\n",
            "-- >> End of eval phase << --\n",
            "\tConfusionMatrix_Stream/eval_phase/test_stream = \n",
            "tensor([[ 977,    0,    0,    0,    0,    3,    0,    0,    0,    0],\n",
            "        [   2, 1130,    0,    0,    0,    3,    0,    0,    0,    0],\n",
            "        [ 734,  259,    1,    0,   27,   11,    0,    0,    0,    0],\n",
            "        [ 574,   69,    0,    1,    5,  361,    0,    0,    0,    0],\n",
            "        [ 223,   55,    0,    0,  604,  100,    0,    0,    0,    0],\n",
            "        [ 514,   58,    0,    0,    5,  315,    0,    0,    0,    0],\n",
            "        [ 781,   88,    0,    0,   21,   66,    2,    0,    0,    0],\n",
            "        [ 393,  205,    0,    0,  209,  162,    0,   20,    0,   39],\n",
            "        [ 556,  155,    0,    0,    8,  255,    0,    0,    0,    0],\n",
            "        [ 269,   59,    0,    0,  353,  327,    0,    0,    0,    1]])\n",
            "\tDiskUsage_Stream/eval_phase/test_stream/Task000 = 120606.3086\n",
            "\tLoss_Stream/eval_phase/test_stream/Task000 = 1.8948\n",
            "\tStreamForgetting/eval_phase/test_stream = 0.7454\n",
            "\tTop1_Acc_Stream/eval_phase/test_stream/Task000 = 0.3051\n"
          ]
        }
      ]
    },
    {
      "cell_type": "code",
      "source": [
        "!tensorboard --logdir logs/fit"
      ],
      "metadata": {
        "colab": {
          "base_uri": "https://localhost:8080/"
        },
        "id": "NUGLUifpsgmx",
        "outputId": "61d1f284-e02b-4f10-d5fd-01736ff48df5"
      },
      "execution_count": null,
      "outputs": [
        {
          "output_type": "stream",
          "name": "stdout",
          "text": [
            "2022-11-15 23:57:48.362041: E tensorflow/stream_executor/cuda/cuda_driver.cc:271] failed call to cuInit: CUDA_ERROR_NO_DEVICE: no CUDA-capable device is detected\n",
            "\n",
            "NOTE: Using experimental fast data loading logic. To disable, pass\n",
            "    \"--load_fast=false\" and report issues on GitHub. More details:\n",
            "    https://github.com/tensorflow/tensorboard/issues/4784\n",
            "\n",
            "Serving TensorBoard on localhost; to expose to the network, use a proxy or pass --bind_all\n",
            "TensorBoard 2.9.1 at http://localhost:6006/ (Press CTRL+C to quit)\n",
            "Error in atexit._run_exitfuncs:\n",
            "Traceback (most recent call last):\n",
            "  File \"/usr/lib/python3.7/logging/__init__.py\", line 2021, in shutdown\n",
            "    def shutdown(handlerList=_handlerList):\n",
            "KeyboardInterrupt\n"
          ]
        }
      ]
    },
    {
      "cell_type": "code",
      "source": [],
      "metadata": {
        "id": "WVb5s1kZsgkE"
      },
      "execution_count": null,
      "outputs": []
    },
    {
      "cell_type": "markdown",
      "source": [
        "-------------"
      ],
      "metadata": {
        "id": "fQq9VzGZvKCc"
      }
    },
    {
      "cell_type": "markdown",
      "source": [
        "# Continual learning using avalanche library"
      ],
      "metadata": {
        "id": "B8LptuFsvslp"
      }
    },
    {
      "cell_type": "markdown",
      "source": [
        "**Continual learning**: it's approch that it keep updating the model with newest data."
      ],
      "metadata": {
        "id": "Fz6k0XrMvzmk"
      }
    },
    {
      "cell_type": "markdown",
      "source": [
        "**Avalanche**: a tool can perform continual learning. It has main components: \n",
        "```\n",
        "Avalanche\n",
        "├── Benchmarks (handle data preprocessing)\n",
        "│   ├── Classic\n",
        "│   ├── Datasets (use well-known datasets)\n",
        "│   └── Generators (collect stream data)\n",
        "├── Evaluation \n",
        "│   ├── Metrics (accuracy checking)\n",
        "│   └── Tensorboard (check model's performance)\n",
        "├── Training \n",
        "│   └── Strategies (pipeline: model+optimizer+loss+evaluator)\n",
        "├── Models\n",
        "└── Loggers (for visualization)\n",
        "```\n",
        "\n"
      ],
      "metadata": {
        "id": "gkyGoQuDwJeC"
      }
    },
    {
      "cell_type": "code",
      "source": [
        "!pip install avalanche-lib==0.2.1"
      ],
      "metadata": {
        "id": "zKaTIFH5ycjl"
      },
      "execution_count": 24,
      "outputs": []
    },
    {
      "cell_type": "code",
      "source": [
        "# use an existing model, SimpleCNN\n",
        "from avalanche.models import SimpleCNN\n",
        "from avalanche.models import SimpleMLP\n",
        "from avalanche.models import SimpleMLP_TinyImageNet\n",
        "from avalanche.models import MobilenetV1\n",
        "\n",
        "model = SimpleCNN()\n",
        "print(model)"
      ],
      "metadata": {
        "id": "qUcdxpsKyfsV"
      },
      "execution_count": null,
      "outputs": []
    },
    {
      "cell_type": "markdown",
      "source": [
        "---------"
      ],
      "metadata": {
        "id": "PCYDdEt6y3Ed"
      }
    },
    {
      "cell_type": "code",
      "source": [
        "# use an existing model, IncrementalClassifier\n",
        "# this time we add benchmark (for dynamic model expansion)\n",
        "from avalanche.benchmarks import SplitMNIST\n",
        "from avalanche.models import IncrementalClassifier\n",
        "\n",
        "benchmark = SplitMNIST(5, shuffle=False)\n",
        "model = IncrementalClassifier(in_features=784)\n",
        "\n",
        "print(model)\n",
        "for exp in benchmark.train_stream:\n",
        "    model.adaptation(exp)\n",
        "    print(model)"
      ],
      "metadata": {
        "colab": {
          "base_uri": "https://localhost:8080/"
        },
        "id": "TlhKNMfxy53d",
        "outputId": "773fd7e2-bcb9-4a5a-9f3d-9ecf58c439fb"
      },
      "execution_count": 26,
      "outputs": [
        {
          "output_type": "stream",
          "name": "stdout",
          "text": [
            "IncrementalClassifier(\n",
            "  (classifier): Linear(in_features=784, out_features=2, bias=True)\n",
            ")\n",
            "IncrementalClassifier(\n",
            "  (classifier): Linear(in_features=784, out_features=2, bias=True)\n",
            ")\n",
            "IncrementalClassifier(\n",
            "  (classifier): Linear(in_features=784, out_features=4, bias=True)\n",
            ")\n",
            "IncrementalClassifier(\n",
            "  (classifier): Linear(in_features=784, out_features=6, bias=True)\n",
            ")\n",
            "IncrementalClassifier(\n",
            "  (classifier): Linear(in_features=784, out_features=8, bias=True)\n",
            ")\n",
            "IncrementalClassifier(\n",
            "  (classifier): Linear(in_features=784, out_features=10, bias=True)\n",
            ")\n"
          ]
        }
      ]
    },
    {
      "cell_type": "markdown",
      "source": [
        "------"
      ],
      "metadata": {
        "id": "6MEL3c3-zQwg"
      }
    },
    {
      "cell_type": "code",
      "source": [
        "# use an existing multitask model/classifier\n",
        "from avalanche.benchmarks import SplitMNIST\n",
        "from avalanche.models import MultiHeadClassifier\n",
        "\n",
        "benchmark = SplitMNIST(5, shuffle=False, return_task_id=True)\n",
        "model = MultiHeadClassifier(in_features=784)\n",
        "\n",
        "print(model)\n",
        "for exp in benchmark.train_stream:\n",
        "    model.adaptation(exp)\n",
        "    print(model)"
      ],
      "metadata": {
        "id": "hN9kjk9msghJ",
        "colab": {
          "base_uri": "https://localhost:8080/"
        },
        "outputId": "049dab47-2a5f-4ca6-d052-191c3d733157"
      },
      "execution_count": 21,
      "outputs": [
        {
          "output_type": "stream",
          "name": "stdout",
          "text": [
            "MultiHeadClassifier(\n",
            "  (classifiers): ModuleDict(\n",
            "    (0): IncrementalClassifier(\n",
            "      (classifier): Linear(in_features=784, out_features=2, bias=True)\n",
            "    )\n",
            "  )\n",
            ")\n",
            "MultiHeadClassifier(\n",
            "  (classifiers): ModuleDict(\n",
            "    (0): IncrementalClassifier(\n",
            "      (classifier): Linear(in_features=784, out_features=2, bias=True)\n",
            "    )\n",
            "  )\n",
            ")\n",
            "MultiHeadClassifier(\n",
            "  (classifiers): ModuleDict(\n",
            "    (0): IncrementalClassifier(\n",
            "      (classifier): Linear(in_features=784, out_features=2, bias=True)\n",
            "    )\n",
            "    (1): IncrementalClassifier(\n",
            "      (classifier): Linear(in_features=784, out_features=2, bias=True)\n",
            "    )\n",
            "  )\n",
            ")\n",
            "MultiHeadClassifier(\n",
            "  (classifiers): ModuleDict(\n",
            "    (0): IncrementalClassifier(\n",
            "      (classifier): Linear(in_features=784, out_features=2, bias=True)\n",
            "    )\n",
            "    (1): IncrementalClassifier(\n",
            "      (classifier): Linear(in_features=784, out_features=2, bias=True)\n",
            "    )\n",
            "    (2): IncrementalClassifier(\n",
            "      (classifier): Linear(in_features=784, out_features=2, bias=True)\n",
            "    )\n",
            "  )\n",
            ")\n",
            "MultiHeadClassifier(\n",
            "  (classifiers): ModuleDict(\n",
            "    (0): IncrementalClassifier(\n",
            "      (classifier): Linear(in_features=784, out_features=2, bias=True)\n",
            "    )\n",
            "    (1): IncrementalClassifier(\n",
            "      (classifier): Linear(in_features=784, out_features=2, bias=True)\n",
            "    )\n",
            "    (2): IncrementalClassifier(\n",
            "      (classifier): Linear(in_features=784, out_features=2, bias=True)\n",
            "    )\n",
            "    (3): IncrementalClassifier(\n",
            "      (classifier): Linear(in_features=784, out_features=2, bias=True)\n",
            "    )\n",
            "  )\n",
            ")\n",
            "MultiHeadClassifier(\n",
            "  (classifiers): ModuleDict(\n",
            "    (0): IncrementalClassifier(\n",
            "      (classifier): Linear(in_features=784, out_features=2, bias=True)\n",
            "    )\n",
            "    (1): IncrementalClassifier(\n",
            "      (classifier): Linear(in_features=784, out_features=2, bias=True)\n",
            "    )\n",
            "    (2): IncrementalClassifier(\n",
            "      (classifier): Linear(in_features=784, out_features=2, bias=True)\n",
            "    )\n",
            "    (3): IncrementalClassifier(\n",
            "      (classifier): Linear(in_features=784, out_features=2, bias=True)\n",
            "    )\n",
            "    (4): IncrementalClassifier(\n",
            "      (classifier): Linear(in_features=784, out_features=2, bias=True)\n",
            "    )\n",
            "  )\n",
            ")\n"
          ]
        }
      ]
    },
    {
      "cell_type": "markdown",
      "source": [
        "--------"
      ],
      "metadata": {
        "id": "X2NmiFtizTfJ"
      }
    },
    {
      "cell_type": "code",
      "source": [
        "# or we can define our own multitask model\n",
        "from avalanche.models import MultiTaskModule\n",
        "\n",
        "class CustomMTModule(MultiTaskModule):\n",
        "    def __init__(self, in_features, initial_out_features=2):\n",
        "        super().__init__()\n",
        "\n",
        "    def adaptation(self, dataset):\n",
        "        super().adaptation(dataset)\n",
        "        # your adaptation goes here\n",
        "\n",
        "    def forward_single_task(self, x, task_label):\n",
        "        # your forward goes here.\n",
        "        # task_label is a single integer\n",
        "        # the mini-batch is split by task-id inside the forward method.\n",
        "        pass"
      ],
      "metadata": {
        "id": "y0_VlZYBsgeU"
      },
      "execution_count": 22,
      "outputs": []
    },
    {
      "cell_type": "markdown",
      "source": [
        "---------"
      ],
      "metadata": {
        "id": "214FR5kazfnh"
      }
    },
    {
      "cell_type": "code",
      "source": [
        "# convert regular model to multitask learning model\n",
        "from avalanche.models import as_multitask\n",
        "\n",
        "model = SimpleCNN()\n",
        "print(model)\n",
        "\n",
        "mt_model = as_multitask(model, 'classifier')\n",
        "print(mt_model)"
      ],
      "metadata": {
        "id": "3n7el_0Jsgbp",
        "colab": {
          "base_uri": "https://localhost:8080/"
        },
        "outputId": "d5a17161-d38d-47b5-aff4-fd8e04ce965c"
      },
      "execution_count": 27,
      "outputs": [
        {
          "output_type": "stream",
          "name": "stdout",
          "text": [
            "SimpleCNN(\n",
            "  (features): Sequential(\n",
            "    (0): Conv2d(3, 32, kernel_size=(3, 3), stride=(1, 1), padding=(1, 1))\n",
            "    (1): ReLU(inplace=True)\n",
            "    (2): Conv2d(32, 32, kernel_size=(3, 3), stride=(1, 1))\n",
            "    (3): ReLU(inplace=True)\n",
            "    (4): MaxPool2d(kernel_size=2, stride=2, padding=0, dilation=1, ceil_mode=False)\n",
            "    (5): Dropout(p=0.25, inplace=False)\n",
            "    (6): Conv2d(32, 64, kernel_size=(3, 3), stride=(1, 1), padding=(1, 1))\n",
            "    (7): ReLU(inplace=True)\n",
            "    (8): Conv2d(64, 64, kernel_size=(3, 3), stride=(1, 1))\n",
            "    (9): ReLU(inplace=True)\n",
            "    (10): MaxPool2d(kernel_size=2, stride=2, padding=0, dilation=1, ceil_mode=False)\n",
            "    (11): Dropout(p=0.25, inplace=False)\n",
            "    (12): Conv2d(64, 64, kernel_size=(1, 1), stride=(1, 1))\n",
            "    (13): ReLU(inplace=True)\n",
            "    (14): AdaptiveMaxPool2d(output_size=1)\n",
            "    (15): Dropout(p=0.25, inplace=False)\n",
            "  )\n",
            "  (classifier): Sequential(\n",
            "    (0): Linear(in_features=64, out_features=10, bias=True)\n",
            "  )\n",
            ")\n",
            "MultiTaskDecorator(\n",
            "  (model): SimpleCNN(\n",
            "    (features): Sequential(\n",
            "      (0): Conv2d(3, 32, kernel_size=(3, 3), stride=(1, 1), padding=(1, 1))\n",
            "      (1): ReLU(inplace=True)\n",
            "      (2): Conv2d(32, 32, kernel_size=(3, 3), stride=(1, 1))\n",
            "      (3): ReLU(inplace=True)\n",
            "      (4): MaxPool2d(kernel_size=2, stride=2, padding=0, dilation=1, ceil_mode=False)\n",
            "      (5): Dropout(p=0.25, inplace=False)\n",
            "      (6): Conv2d(32, 64, kernel_size=(3, 3), stride=(1, 1), padding=(1, 1))\n",
            "      (7): ReLU(inplace=True)\n",
            "      (8): Conv2d(64, 64, kernel_size=(3, 3), stride=(1, 1))\n",
            "      (9): ReLU(inplace=True)\n",
            "      (10): MaxPool2d(kernel_size=2, stride=2, padding=0, dilation=1, ceil_mode=False)\n",
            "      (11): Dropout(p=0.25, inplace=False)\n",
            "      (12): Conv2d(64, 64, kernel_size=(1, 1), stride=(1, 1))\n",
            "      (13): ReLU(inplace=True)\n",
            "      (14): AdaptiveMaxPool2d(output_size=1)\n",
            "      (15): Dropout(p=0.25, inplace=False)\n",
            "    )\n",
            "    (classifier): Sequential()\n",
            "  )\n",
            "  (classifier): MultiHeadClassifier(\n",
            "    (classifiers): ModuleDict(\n",
            "      (0): IncrementalClassifier(\n",
            "        (classifier): Linear(in_features=64, out_features=10, bias=True)\n",
            "      )\n",
            "    )\n",
            "  )\n",
            ")\n"
          ]
        }
      ]
    },
    {
      "cell_type": "code",
      "source": [],
      "metadata": {
        "id": "kZpu6HsAsgYp"
      },
      "execution_count": null,
      "outputs": []
    },
    {
      "cell_type": "markdown",
      "source": [
        "-------"
      ],
      "metadata": {
        "id": "M2eJJrE3zg_i"
      }
    },
    {
      "cell_type": "code",
      "source": [],
      "metadata": {
        "id": "Pz1r7I5jsgV7"
      },
      "execution_count": null,
      "outputs": []
    },
    {
      "cell_type": "code",
      "source": [],
      "metadata": {
        "id": "0GJfS1N9sgS-"
      },
      "execution_count": null,
      "outputs": []
    },
    {
      "cell_type": "code",
      "source": [],
      "metadata": {
        "id": "j4k-WuZvsgQQ"
      },
      "execution_count": null,
      "outputs": []
    },
    {
      "cell_type": "code",
      "source": [],
      "metadata": {
        "id": "hGoKpOUwsgNR"
      },
      "execution_count": null,
      "outputs": []
    },
    {
      "cell_type": "code",
      "source": [],
      "metadata": {
        "id": "vWAIBDHrsgKp"
      },
      "execution_count": null,
      "outputs": []
    },
    {
      "cell_type": "code",
      "source": [],
      "metadata": {
        "id": "8_3xfjNUsgH5"
      },
      "execution_count": null,
      "outputs": []
    },
    {
      "cell_type": "code",
      "source": [],
      "metadata": {
        "id": "mHI2ARKvsgFB"
      },
      "execution_count": null,
      "outputs": []
    }
  ]
}